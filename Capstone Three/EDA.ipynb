{
 "cells": [
  {
   "cell_type": "markdown",
   "id": "0380652f",
   "metadata": {},
   "source": [
    "# Data Wrangling and EDA"
   ]
  },
  {
   "cell_type": "markdown",
   "id": "24bc75ce",
   "metadata": {},
   "source": [
    "The Consumer Financial Protection Bureau is an independent agency of the United States government responsible for consumer protection in the financial sector. Complaints that the CFPB sends to companies for response are published in the Consumer Complaint Database after the company responds, confirming a commercial relationship with the consumer, or after 15 days, whichever comes first.\n",
    "\n",
    "The data below is associated to complaints filed in 2022 and the complaints that have consumer narratives ('Consumer complaint narrative'). Our target variable is the binary variable 'Timely response?'. "
   ]
  },
  {
   "cell_type": "markdown",
   "id": "83443914",
   "metadata": {},
   "source": [
    "| Field Name                   | Description                                                                                                | Type        |\n",
    "|------------------------------|------------------------------------------------------------------------------------------------------------|-------------|\n",
    "| Date received                | The date the CFPB received the complaint                                                                   | datetime    |\n",
    "| Product                      | Type of product in complaint                                                                               | categorical |\n",
    "| Sub-product                  | Type of sub-product                                                                                        | categorical |\n",
    "| Issue                        | The issue the consumer identified in the complaint                                                         | categorical |\n",
    "| Sub-issue                    | The sub-issue the consumer identified in the complaint                                                     | categorical |\n",
    "| Consumer complaint narrative | Consumer complaint narrative is the consumer-submitted  description of \"what happened\" from the complaint. | text        |\n",
    "| Company public response      | The company's optional, public-facing response to a consumer's complaint.                                  | text        |\n",
    "| Company                      |                                                                                                            | categorical |\n",
    "| State                        |                                                                                                            | categorical |\n",
    "| ZIP code                     |                                                                                                            | number      |\n",
    "| Tags                         |                                                                                                            | text        |\n",
    "| Consumer consent provided?   | Identifies whether the consumer opted in to publish their complaint narrative.                             | categorical |\n",
    "| Submitted via                | How the complaint was submitted to the CFPB                                                                | categorical |\n",
    "| Date sent to company         | The date the CFPB sent the complaint to the company                                                        | datetime    |\n",
    "| Company response to consumer | This is how the company responded.                                                                         | categorical |\n",
    "| Timely response?             | Whether the company gave a timely response                                                                 | binary      |\n",
    "| Consumer disputed?           | Whether the consumer disputed the company’s response                                                       | binary      |\n",
    "| Complaint ID                 | The unique identification number for a complaint                                                           | number      |"
   ]
  },
  {
   "cell_type": "code",
   "execution_count": 22,
   "id": "b5953d58",
   "metadata": {},
   "outputs": [],
   "source": [
    "#import packages for data wrangling and EDA\n",
    "import pandas as pd\n",
    "import matplotlib.pyplot as plt "
   ]
  },
  {
   "cell_type": "code",
   "execution_count": 3,
   "id": "c931b2be",
   "metadata": {},
   "outputs": [],
   "source": [
    "df = pd.read_csv('complaints-2024-07-16_13_58.csv')"
   ]
  },
  {
   "cell_type": "code",
   "execution_count": 4,
   "id": "b9109283",
   "metadata": {},
   "outputs": [
    {
     "data": {
      "text/html": [
       "<div>\n",
       "<style scoped>\n",
       "    .dataframe tbody tr th:only-of-type {\n",
       "        vertical-align: middle;\n",
       "    }\n",
       "\n",
       "    .dataframe tbody tr th {\n",
       "        vertical-align: top;\n",
       "    }\n",
       "\n",
       "    .dataframe thead th {\n",
       "        text-align: right;\n",
       "    }\n",
       "</style>\n",
       "<table border=\"1\" class=\"dataframe\">\n",
       "  <thead>\n",
       "    <tr style=\"text-align: right;\">\n",
       "      <th></th>\n",
       "      <th>Date received</th>\n",
       "      <th>Product</th>\n",
       "      <th>Sub-product</th>\n",
       "      <th>Issue</th>\n",
       "      <th>Sub-issue</th>\n",
       "      <th>Consumer complaint narrative</th>\n",
       "      <th>Company public response</th>\n",
       "      <th>Company</th>\n",
       "      <th>State</th>\n",
       "      <th>ZIP code</th>\n",
       "      <th>Tags</th>\n",
       "      <th>Consumer consent provided?</th>\n",
       "      <th>Submitted via</th>\n",
       "      <th>Date sent to company</th>\n",
       "      <th>Company response to consumer</th>\n",
       "      <th>Timely response?</th>\n",
       "      <th>Consumer disputed?</th>\n",
       "      <th>Complaint ID</th>\n",
       "    </tr>\n",
       "  </thead>\n",
       "  <tbody>\n",
       "    <tr>\n",
       "      <th>0</th>\n",
       "      <td>08/26/22</td>\n",
       "      <td>Credit reporting, credit repair services, or o...</td>\n",
       "      <td>Credit reporting</td>\n",
       "      <td>Incorrect information on your report</td>\n",
       "      <td>Information belongs to someone else</td>\n",
       "      <td>This is not a duplicate nor is this complaint ...</td>\n",
       "      <td>NaN</td>\n",
       "      <td>EQUIFAX, INC.</td>\n",
       "      <td>NY</td>\n",
       "      <td>10952</td>\n",
       "      <td>NaN</td>\n",
       "      <td>Consent provided</td>\n",
       "      <td>Web</td>\n",
       "      <td>08/26/22</td>\n",
       "      <td>Closed with explanation</td>\n",
       "      <td>Yes</td>\n",
       "      <td>NaN</td>\n",
       "      <td>5915765</td>\n",
       "    </tr>\n",
       "    <tr>\n",
       "      <th>1</th>\n",
       "      <td>03/07/22</td>\n",
       "      <td>Credit reporting, credit repair services, or o...</td>\n",
       "      <td>Credit reporting</td>\n",
       "      <td>Problem with a credit reporting company's inve...</td>\n",
       "      <td>Was not notified of investigation status or re...</td>\n",
       "      <td>As by Law, under 15 U.S Code 1601- Congression...</td>\n",
       "      <td>Company has responded to the consumer and the ...</td>\n",
       "      <td>TRANSUNION INTERMEDIATE HOLDINGS, INC.</td>\n",
       "      <td>MD</td>\n",
       "      <td>20770</td>\n",
       "      <td>NaN</td>\n",
       "      <td>Consent provided</td>\n",
       "      <td>Web</td>\n",
       "      <td>03/07/22</td>\n",
       "      <td>Closed with non-monetary relief</td>\n",
       "      <td>Yes</td>\n",
       "      <td>NaN</td>\n",
       "      <td>5292064</td>\n",
       "    </tr>\n",
       "    <tr>\n",
       "      <th>2</th>\n",
       "      <td>03/07/22</td>\n",
       "      <td>Credit reporting, credit repair services, or o...</td>\n",
       "      <td>Credit reporting</td>\n",
       "      <td>Incorrect information on your report</td>\n",
       "      <td>Information belongs to someone else</td>\n",
       "      <td>I am a victim of Identity theft. Please delete...</td>\n",
       "      <td>Company has responded to the consumer and the ...</td>\n",
       "      <td>TRANSUNION INTERMEDIATE HOLDINGS, INC.</td>\n",
       "      <td>NC</td>\n",
       "      <td>27610</td>\n",
       "      <td>NaN</td>\n",
       "      <td>Consent provided</td>\n",
       "      <td>Web</td>\n",
       "      <td>03/07/22</td>\n",
       "      <td>Closed with explanation</td>\n",
       "      <td>Yes</td>\n",
       "      <td>NaN</td>\n",
       "      <td>5292231</td>\n",
       "    </tr>\n",
       "    <tr>\n",
       "      <th>3</th>\n",
       "      <td>04/16/22</td>\n",
       "      <td>Credit reporting, credit repair services, or o...</td>\n",
       "      <td>Credit reporting</td>\n",
       "      <td>Improper use of your report</td>\n",
       "      <td>Reporting company used your report improperly</td>\n",
       "      <td>I am very concerned about the items that are b...</td>\n",
       "      <td>Company has responded to the consumer and the ...</td>\n",
       "      <td>Experian Information Solutions Inc.</td>\n",
       "      <td>VA</td>\n",
       "      <td>23234</td>\n",
       "      <td>NaN</td>\n",
       "      <td>Consent provided</td>\n",
       "      <td>Web</td>\n",
       "      <td>04/16/22</td>\n",
       "      <td>Closed with non-monetary relief</td>\n",
       "      <td>Yes</td>\n",
       "      <td>NaN</td>\n",
       "      <td>5456090</td>\n",
       "    </tr>\n",
       "    <tr>\n",
       "      <th>4</th>\n",
       "      <td>03/07/22</td>\n",
       "      <td>Credit reporting, credit repair services, or o...</td>\n",
       "      <td>Credit reporting</td>\n",
       "      <td>Improper use of your report</td>\n",
       "      <td>Reporting company used your report improperly</td>\n",
       "      <td>My credit reports are inaccurate. These inaccu...</td>\n",
       "      <td>NaN</td>\n",
       "      <td>EQUIFAX, INC.</td>\n",
       "      <td>CA</td>\n",
       "      <td>92563</td>\n",
       "      <td>NaN</td>\n",
       "      <td>Consent provided</td>\n",
       "      <td>Web</td>\n",
       "      <td>03/07/22</td>\n",
       "      <td>Closed with explanation</td>\n",
       "      <td>Yes</td>\n",
       "      <td>NaN</td>\n",
       "      <td>5292229</td>\n",
       "    </tr>\n",
       "  </tbody>\n",
       "</table>\n",
       "</div>"
      ],
      "text/plain": [
       "  Date received                                            Product  \\\n",
       "0      08/26/22  Credit reporting, credit repair services, or o...   \n",
       "1      03/07/22  Credit reporting, credit repair services, or o...   \n",
       "2      03/07/22  Credit reporting, credit repair services, or o...   \n",
       "3      04/16/22  Credit reporting, credit repair services, or o...   \n",
       "4      03/07/22  Credit reporting, credit repair services, or o...   \n",
       "\n",
       "        Sub-product                                              Issue  \\\n",
       "0  Credit reporting               Incorrect information on your report   \n",
       "1  Credit reporting  Problem with a credit reporting company's inve...   \n",
       "2  Credit reporting               Incorrect information on your report   \n",
       "3  Credit reporting                        Improper use of your report   \n",
       "4  Credit reporting                        Improper use of your report   \n",
       "\n",
       "                                           Sub-issue  \\\n",
       "0                Information belongs to someone else   \n",
       "1  Was not notified of investigation status or re...   \n",
       "2                Information belongs to someone else   \n",
       "3      Reporting company used your report improperly   \n",
       "4      Reporting company used your report improperly   \n",
       "\n",
       "                        Consumer complaint narrative  \\\n",
       "0  This is not a duplicate nor is this complaint ...   \n",
       "1  As by Law, under 15 U.S Code 1601- Congression...   \n",
       "2  I am a victim of Identity theft. Please delete...   \n",
       "3  I am very concerned about the items that are b...   \n",
       "4  My credit reports are inaccurate. These inaccu...   \n",
       "\n",
       "                             Company public response  \\\n",
       "0                                                NaN   \n",
       "1  Company has responded to the consumer and the ...   \n",
       "2  Company has responded to the consumer and the ...   \n",
       "3  Company has responded to the consumer and the ...   \n",
       "4                                                NaN   \n",
       "\n",
       "                                  Company State ZIP code Tags  \\\n",
       "0                           EQUIFAX, INC.    NY    10952  NaN   \n",
       "1  TRANSUNION INTERMEDIATE HOLDINGS, INC.    MD    20770  NaN   \n",
       "2  TRANSUNION INTERMEDIATE HOLDINGS, INC.    NC    27610  NaN   \n",
       "3     Experian Information Solutions Inc.    VA    23234  NaN   \n",
       "4                           EQUIFAX, INC.    CA    92563  NaN   \n",
       "\n",
       "  Consumer consent provided? Submitted via Date sent to company  \\\n",
       "0           Consent provided           Web             08/26/22   \n",
       "1           Consent provided           Web             03/07/22   \n",
       "2           Consent provided           Web             03/07/22   \n",
       "3           Consent provided           Web             04/16/22   \n",
       "4           Consent provided           Web             03/07/22   \n",
       "\n",
       "      Company response to consumer Timely response?  Consumer disputed?  \\\n",
       "0          Closed with explanation              Yes                 NaN   \n",
       "1  Closed with non-monetary relief              Yes                 NaN   \n",
       "2          Closed with explanation              Yes                 NaN   \n",
       "3  Closed with non-monetary relief              Yes                 NaN   \n",
       "4          Closed with explanation              Yes                 NaN   \n",
       "\n",
       "   Complaint ID  \n",
       "0       5915765  \n",
       "1       5292064  \n",
       "2       5292231  \n",
       "3       5456090  \n",
       "4       5292229  "
      ]
     },
     "execution_count": 4,
     "metadata": {},
     "output_type": "execute_result"
    }
   ],
   "source": [
    "df.head()"
   ]
  },
  {
   "cell_type": "code",
   "execution_count": 7,
   "id": "cd783fbd",
   "metadata": {},
   "outputs": [
    {
     "name": "stdout",
     "output_type": "stream",
     "text": [
      "<class 'pandas.core.frame.DataFrame'>\n",
      "RangeIndex: 328213 entries, 0 to 328212\n",
      "Data columns (total 18 columns):\n",
      " #   Column                        Non-Null Count   Dtype  \n",
      "---  ------                        --------------   -----  \n",
      " 0   Date received                 328213 non-null  object \n",
      " 1   Product                       328213 non-null  object \n",
      " 2   Sub-product                   328209 non-null  object \n",
      " 3   Issue                         328213 non-null  object \n",
      " 4   Sub-issue                     304375 non-null  object \n",
      " 5   Consumer complaint narrative  328213 non-null  object \n",
      " 6   Company public response       182069 non-null  object \n",
      " 7   Company                       328213 non-null  object \n",
      " 8   State                         327248 non-null  object \n",
      " 9   ZIP code                      328213 non-null  object \n",
      " 10  Tags                          37017 non-null   object \n",
      " 11  Consumer consent provided?    328213 non-null  object \n",
      " 12  Submitted via                 328213 non-null  object \n",
      " 13  Date sent to company          328213 non-null  object \n",
      " 14  Company response to consumer  328213 non-null  object \n",
      " 15  Timely response?              328213 non-null  object \n",
      " 16  Consumer disputed?            0 non-null       float64\n",
      " 17  Complaint ID                  328213 non-null  int64  \n",
      "dtypes: float64(1), int64(1), object(16)\n",
      "memory usage: 45.1+ MB\n"
     ]
    }
   ],
   "source": [
    "df.info()"
   ]
  },
  {
   "cell_type": "markdown",
   "id": "be21eafd",
   "metadata": {},
   "source": [
    "How many unique companies are there?"
   ]
  },
  {
   "cell_type": "code",
   "execution_count": 6,
   "id": "7462d203",
   "metadata": {},
   "outputs": [
    {
     "data": {
      "text/plain": [
       "2732"
      ]
     },
     "execution_count": 6,
     "metadata": {},
     "output_type": "execute_result"
    }
   ],
   "source": [
    "df.Company.nunique()"
   ]
  },
  {
   "cell_type": "markdown",
   "id": "62bf9267",
   "metadata": {},
   "source": [
    "Note that the 'Timely response?' target is imbalanced. The CFPB website even says \"98% of complaints sent to companies get timely responses\". "
   ]
  },
  {
   "cell_type": "code",
   "execution_count": 10,
   "id": "16d65aee",
   "metadata": {},
   "outputs": [
    {
     "data": {
      "text/plain": [
       "Timely response?\n",
       "Yes    325534\n",
       "No       2679\n",
       "Name: count, dtype: int64"
      ]
     },
     "execution_count": 10,
     "metadata": {},
     "output_type": "execute_result"
    }
   ],
   "source": [
    "df['Timely response?'].value_counts()"
   ]
  },
  {
   "cell_type": "code",
   "execution_count": 14,
   "id": "ede730a2",
   "metadata": {},
   "outputs": [
    {
     "name": "stdout",
     "output_type": "stream",
     "text": [
      "<class 'pandas.core.frame.DataFrame'>\n",
      "Index: 2679 entries, 504 to 328131\n",
      "Data columns (total 18 columns):\n",
      " #   Column                        Non-Null Count  Dtype  \n",
      "---  ------                        --------------  -----  \n",
      " 0   Date received                 2679 non-null   object \n",
      " 1   Product                       2679 non-null   object \n",
      " 2   Sub-product                   2679 non-null   object \n",
      " 3   Issue                         2679 non-null   object \n",
      " 4   Sub-issue                     2210 non-null   object \n",
      " 5   Consumer complaint narrative  2679 non-null   object \n",
      " 6   Company public response       948 non-null    object \n",
      " 7   Company                       2679 non-null   object \n",
      " 8   State                         2670 non-null   object \n",
      " 9   ZIP code                      2679 non-null   object \n",
      " 10  Tags                          435 non-null    object \n",
      " 11  Consumer consent provided?    2679 non-null   object \n",
      " 12  Submitted via                 2679 non-null   object \n",
      " 13  Date sent to company          2679 non-null   object \n",
      " 14  Company response to consumer  2679 non-null   object \n",
      " 15  Timely response?              2679 non-null   object \n",
      " 16  Consumer disputed?            0 non-null      float64\n",
      " 17  Complaint ID                  2679 non-null   int64  \n",
      "dtypes: float64(1), int64(1), object(16)\n",
      "memory usage: 397.7+ KB\n"
     ]
    }
   ],
   "source": [
    "df[df['Timely response?']=='No'].info()"
   ]
  },
  {
   "cell_type": "markdown",
   "id": "180581cc",
   "metadata": {},
   "source": [
    "The following features do not seem useful in determing whether there was a timely response. \n",
    "\n",
    "- 'Date received', 'Submitted via', 'Date sent to company': how and when should be irrelevant \n",
    "- 'Company public response', 'Company response to consumer': this is optional on the company's end\n",
    "- 'State', 'ZIP code': where is irrelevant\n",
    "- 'Tags', 'Consumer consent provided?', 'Consumer disputed?', 'Complaint ID': this customer identification is irrelevant"
   ]
  },
  {
   "cell_type": "code",
   "execution_count": 5,
   "id": "759dcb17",
   "metadata": {},
   "outputs": [],
   "source": [
    "columns_to_drop=['Date received','Company public response','State','ZIP code','Tags','Consumer consent provided?','Submitted via','Date sent to company','Company response to consumer','Consumer disputed?','Complaint ID']"
   ]
  },
  {
   "cell_type": "code",
   "execution_count": 6,
   "id": "adfb6832",
   "metadata": {},
   "outputs": [
    {
     "data": {
      "text/html": [
       "<div>\n",
       "<style scoped>\n",
       "    .dataframe tbody tr th:only-of-type {\n",
       "        vertical-align: middle;\n",
       "    }\n",
       "\n",
       "    .dataframe tbody tr th {\n",
       "        vertical-align: top;\n",
       "    }\n",
       "\n",
       "    .dataframe thead th {\n",
       "        text-align: right;\n",
       "    }\n",
       "</style>\n",
       "<table border=\"1\" class=\"dataframe\">\n",
       "  <thead>\n",
       "    <tr style=\"text-align: right;\">\n",
       "      <th></th>\n",
       "      <th>Product</th>\n",
       "      <th>Sub-product</th>\n",
       "      <th>Issue</th>\n",
       "      <th>Sub-issue</th>\n",
       "      <th>Consumer complaint narrative</th>\n",
       "      <th>Company</th>\n",
       "      <th>Timely response?</th>\n",
       "    </tr>\n",
       "  </thead>\n",
       "  <tbody>\n",
       "    <tr>\n",
       "      <th>0</th>\n",
       "      <td>Credit reporting, credit repair services, or o...</td>\n",
       "      <td>Credit reporting</td>\n",
       "      <td>Incorrect information on your report</td>\n",
       "      <td>Information belongs to someone else</td>\n",
       "      <td>This is not a duplicate nor is this complaint ...</td>\n",
       "      <td>EQUIFAX, INC.</td>\n",
       "      <td>Yes</td>\n",
       "    </tr>\n",
       "    <tr>\n",
       "      <th>1</th>\n",
       "      <td>Credit reporting, credit repair services, or o...</td>\n",
       "      <td>Credit reporting</td>\n",
       "      <td>Problem with a credit reporting company's inve...</td>\n",
       "      <td>Was not notified of investigation status or re...</td>\n",
       "      <td>As by Law, under 15 U.S Code 1601- Congression...</td>\n",
       "      <td>TRANSUNION INTERMEDIATE HOLDINGS, INC.</td>\n",
       "      <td>Yes</td>\n",
       "    </tr>\n",
       "    <tr>\n",
       "      <th>2</th>\n",
       "      <td>Credit reporting, credit repair services, or o...</td>\n",
       "      <td>Credit reporting</td>\n",
       "      <td>Incorrect information on your report</td>\n",
       "      <td>Information belongs to someone else</td>\n",
       "      <td>I am a victim of Identity theft. Please delete...</td>\n",
       "      <td>TRANSUNION INTERMEDIATE HOLDINGS, INC.</td>\n",
       "      <td>Yes</td>\n",
       "    </tr>\n",
       "    <tr>\n",
       "      <th>3</th>\n",
       "      <td>Credit reporting, credit repair services, or o...</td>\n",
       "      <td>Credit reporting</td>\n",
       "      <td>Improper use of your report</td>\n",
       "      <td>Reporting company used your report improperly</td>\n",
       "      <td>I am very concerned about the items that are b...</td>\n",
       "      <td>Experian Information Solutions Inc.</td>\n",
       "      <td>Yes</td>\n",
       "    </tr>\n",
       "    <tr>\n",
       "      <th>4</th>\n",
       "      <td>Credit reporting, credit repair services, or o...</td>\n",
       "      <td>Credit reporting</td>\n",
       "      <td>Improper use of your report</td>\n",
       "      <td>Reporting company used your report improperly</td>\n",
       "      <td>My credit reports are inaccurate. These inaccu...</td>\n",
       "      <td>EQUIFAX, INC.</td>\n",
       "      <td>Yes</td>\n",
       "    </tr>\n",
       "  </tbody>\n",
       "</table>\n",
       "</div>"
      ],
      "text/plain": [
       "                                             Product       Sub-product  \\\n",
       "0  Credit reporting, credit repair services, or o...  Credit reporting   \n",
       "1  Credit reporting, credit repair services, or o...  Credit reporting   \n",
       "2  Credit reporting, credit repair services, or o...  Credit reporting   \n",
       "3  Credit reporting, credit repair services, or o...  Credit reporting   \n",
       "4  Credit reporting, credit repair services, or o...  Credit reporting   \n",
       "\n",
       "                                               Issue  \\\n",
       "0               Incorrect information on your report   \n",
       "1  Problem with a credit reporting company's inve...   \n",
       "2               Incorrect information on your report   \n",
       "3                        Improper use of your report   \n",
       "4                        Improper use of your report   \n",
       "\n",
       "                                           Sub-issue  \\\n",
       "0                Information belongs to someone else   \n",
       "1  Was not notified of investigation status or re...   \n",
       "2                Information belongs to someone else   \n",
       "3      Reporting company used your report improperly   \n",
       "4      Reporting company used your report improperly   \n",
       "\n",
       "                        Consumer complaint narrative  \\\n",
       "0  This is not a duplicate nor is this complaint ...   \n",
       "1  As by Law, under 15 U.S Code 1601- Congression...   \n",
       "2  I am a victim of Identity theft. Please delete...   \n",
       "3  I am very concerned about the items that are b...   \n",
       "4  My credit reports are inaccurate. These inaccu...   \n",
       "\n",
       "                                  Company Timely response?  \n",
       "0                           EQUIFAX, INC.              Yes  \n",
       "1  TRANSUNION INTERMEDIATE HOLDINGS, INC.              Yes  \n",
       "2  TRANSUNION INTERMEDIATE HOLDINGS, INC.              Yes  \n",
       "3     Experian Information Solutions Inc.              Yes  \n",
       "4                           EQUIFAX, INC.              Yes  "
      ]
     },
     "execution_count": 6,
     "metadata": {},
     "output_type": "execute_result"
    }
   ],
   "source": [
    "df.drop(columns_to_drop,axis=1).head()"
   ]
  },
  {
   "cell_type": "markdown",
   "id": "1b2311e6",
   "metadata": {},
   "source": [
    "Let's examine some common issues, first for the whole dataset and then for when complaints do not get timely responses."
   ]
  },
  {
   "cell_type": "code",
   "execution_count": 51,
   "id": "f163ac94",
   "metadata": {},
   "outputs": [
    {
     "data": {
      "text/plain": [
       "Issue\n",
       "Incorrect information on your report                                                80390\n",
       "Improper use of your report                                                         80231\n",
       "Problem with a credit reporting company's investigation into an existing problem    65143\n",
       "Attempts to collect debt not owed                                                   15213\n",
       "Managing an account                                                                  9831\n",
       "Trouble during payment process                                                       5856\n",
       "Written notification about debt                                                      5726\n",
       "Problem with a purchase shown on your statement                                      5389\n",
       "Fraud or scam                                                                        3659\n",
       "Dealing with your lender or servicer                                                 3211\n",
       "Name: count, dtype: int64"
      ]
     },
     "execution_count": 51,
     "metadata": {},
     "output_type": "execute_result"
    }
   ],
   "source": [
    "df['Issue'].value_counts().head(10)"
   ]
  },
  {
   "cell_type": "code",
   "execution_count": 52,
   "id": "e0197a75",
   "metadata": {},
   "outputs": [
    {
     "data": {
      "text/plain": [
       "Sub-issue\n",
       "Reporting company used your report improperly               66982\n",
       "Information belongs to someone else                         49863\n",
       "Their investigation did not fix an error on your report     41513\n",
       "Credit inquiries on your report that you don't recognize    12704\n",
       "Account information incorrect                               10964\n",
       "Was not notified of investigation status or results         10820\n",
       "Account status incorrect                                    10494\n",
       "Investigation took more than 30 days                         9322\n",
       "Debt is not yours                                            7427\n",
       "Debt was result of identity theft                            4737\n",
       "Name: count, dtype: int64"
      ]
     },
     "execution_count": 52,
     "metadata": {},
     "output_type": "execute_result"
    }
   ],
   "source": [
    "df['Sub-issue'].value_counts().head(10)"
   ]
  },
  {
   "cell_type": "code",
   "execution_count": 53,
   "id": "c4745b18",
   "metadata": {},
   "outputs": [
    {
     "data": {
      "text/plain": [
       "Issue\n",
       "Attempts to collect debt not owed                                                   442\n",
       "Incorrect information on your report                                                291\n",
       "Written notification about debt                                                     181\n",
       "Improper use of your report                                                         164\n",
       "Problem with a credit reporting company's investigation into an existing problem    129\n",
       "Managing an account                                                                 129\n",
       "Took or threatened to take negative or legal action                                 125\n",
       "False statements or representation                                                  125\n",
       "Communication tactics                                                                73\n",
       "Problem with a purchase shown on your statement                                      70\n",
       "Name: count, dtype: int64"
      ]
     },
     "execution_count": 53,
     "metadata": {},
     "output_type": "execute_result"
    }
   ],
   "source": [
    "df[df['Timely response?']=='No']['Issue'].value_counts().head(10)"
   ]
  },
  {
   "cell_type": "code",
   "execution_count": 54,
   "id": "8ba8c13c",
   "metadata": {},
   "outputs": [
    {
     "data": {
      "text/plain": [
       "Company\n",
       "BANK OF AMERICA, NATIONAL ASSOCIATION               268\n",
       "CLGF Holdco 1, LLC                                  183\n",
       "TRUIST FINANCIAL CORPORATION                        109\n",
       "Self Financial Inc.                                  76\n",
       "HCFS Healthcare Financial Services of TeamHealth     68\n",
       "CCS Financial Services, Inc.                         67\n",
       "Commonwealth Financial Systems, Inc.                 46\n",
       "AmerAssist A/R Solutions, Inc.                       41\n",
       "SANTANDER BANK, NATIONAL ASSOCIATION                 39\n",
       "Sezzle Inc.                                          36\n",
       "Name: count, dtype: int64"
      ]
     },
     "execution_count": 54,
     "metadata": {},
     "output_type": "execute_result"
    }
   ],
   "source": [
    "df[df['Timely response?']=='No']['Company'].value_counts().head(10)"
   ]
  },
  {
   "cell_type": "markdown",
   "id": "d7ed4c4e",
   "metadata": {},
   "source": [
    "Let's examine what makes up the majority of the untimely response complaints."
   ]
  },
  {
   "cell_type": "code",
   "execution_count": 16,
   "id": "ac7ad137",
   "metadata": {},
   "outputs": [],
   "source": [
    "filtered_df = df[df['Timely response?']=='No'].drop(columns_to_drop,axis=1)"
   ]
  },
  {
   "cell_type": "code",
   "execution_count": 36,
   "id": "3db5bcfa",
   "metadata": {},
   "outputs": [
    {
     "data": {
      "text/plain": [
       "Index(['Product', 'Sub-product', 'Issue', 'Sub-issue',\n",
       "       'Consumer complaint narrative', 'Company', 'Timely response?'],\n",
       "      dtype='object')"
      ]
     },
     "execution_count": 36,
     "metadata": {},
     "output_type": "execute_result"
    }
   ],
   "source": [
    "filtered_df.columns"
   ]
  },
  {
   "cell_type": "code",
   "execution_count": 37,
   "id": "5bc7b746",
   "metadata": {},
   "outputs": [
    {
     "name": "stdout",
     "output_type": "stream",
     "text": [
      "<class 'pandas.core.frame.DataFrame'>\n",
      "Index: 2679 entries, 504 to 328131\n",
      "Data columns (total 7 columns):\n",
      " #   Column                        Non-Null Count  Dtype \n",
      "---  ------                        --------------  ----- \n",
      " 0   Product                       2679 non-null   object\n",
      " 1   Sub-product                   2679 non-null   object\n",
      " 2   Issue                         2679 non-null   object\n",
      " 3   Sub-issue                     2210 non-null   object\n",
      " 4   Consumer complaint narrative  2679 non-null   object\n",
      " 5   Company                       2679 non-null   object\n",
      " 6   Timely response?              2679 non-null   object\n",
      "dtypes: object(7)\n",
      "memory usage: 167.4+ KB\n"
     ]
    }
   ],
   "source": [
    "filtered_df.info()"
   ]
  },
  {
   "cell_type": "code",
   "execution_count": 36,
   "id": "ba3c65d9",
   "metadata": {},
   "outputs": [
    {
     "name": "stdout",
     "output_type": "stream",
     "text": [
      "Highest Value Count in Product:\n",
      "974\n",
      "Highest Value Count in Sub-product:\n",
      "532\n",
      "Highest Value Count in Issue:\n",
      "442\n",
      "Highest Value Count in Sub-issue:\n",
      "230\n",
      "Highest Value Count in Consumer complaint narrative:\n",
      "4\n",
      "Highest Value Count in Company:\n",
      "268\n",
      "Highest Value Count in Timely response?:\n",
      "2679\n"
     ]
    }
   ],
   "source": [
    "for col in filtered_df.columns:\n",
    "    print(f\"Highest Value Count in {col}:\")\n",
    "    print(df[df['Timely response?']=='No'][col].value_counts().iloc[0])"
   ]
  },
  {
   "cell_type": "code",
   "execution_count": 23,
   "id": "431f75d5",
   "metadata": {},
   "outputs": [
    {
     "name": "stdout",
     "output_type": "stream",
     "text": [
      "Frequency histogram for Product:\n"
     ]
    },
    {
     "data": {
      "image/png": "[encoded data removed]",
      "text/plain": [
       "<Figure size 640x480 with 1 Axes>"
      ]
     },
     "metadata": {},
     "output_type": "display_data"
    },
    {
     "name": "stdout",
     "output_type": "stream",
     "text": [
      "Frequency histogram for Sub-product:\n"
     ]
    },
    {
     "data": {
      "image/png": "[encoded data removed]",
      "text/plain": [
       "<Figure size 640x480 with 1 Axes>"
      ]
     },
     "metadata": {},
     "output_type": "display_data"
    },
    {
     "name": "stdout",
     "output_type": "stream",
     "text": [
      "Frequency histogram for Issue:\n"
     ]
    },
    {
     "data": {
      "image/png": "[encoded data removed]",
      "text/plain": [
       "<Figure size 640x480 with 1 Axes>"
      ]
     },
     "metadata": {},
     "output_type": "display_data"
    },
    {
     "name": "stdout",
     "output_type": "stream",
     "text": [
      "Frequency histogram for Sub-issue:\n"
     ]
    },
    {
     "data": {
      "image/png": "[encoded data removed]",
      "text/plain": [
       "<Figure size 640x480 with 1 Axes>"
      ]
     },
     "metadata": {},
     "output_type": "display_data"
    },
    {
     "name": "stdout",
     "output_type": "stream",
     "text": [
      "Frequency histogram for Consumer complaint narrative:\n"
     ]
    },
    {
     "data": {
      "image/png": "[encoded data removed]",
      "text/plain": [
       "<Figure size 640x480 with 1 Axes>"
      ]
     },
     "metadata": {},
     "output_type": "display_data"
    },
    {
     "name": "stdout",
     "output_type": "stream",
     "text": [
      "Frequency histogram for Company:\n"
     ]
    },
    {
     "data": {
      "image/png": "[encoded data removed]",
      "text/plain": [
       "<Figure size 640x480 with 1 Axes>"
      ]
     },
     "metadata": {},
     "output_type": "display_data"
    },
    {
     "name": "stdout",
     "output_type": "stream",
     "text": [
      "Frequency histogram for Timely response?:\n"
     ]
    },
    {
     "data": {
      "image/png": "[encoded data removed]",
      "text/plain": [
       "<Figure size 640x480 with 1 Axes>"
      ]
     },
     "metadata": {},
     "output_type": "display_data"
    }
   ],
   "source": [
    "for col in filtered_df.columns:\n",
    "    print(f\"Frequency histogram for {col}:\")\n",
    "    filtered_df[col].value_counts().hist()\n",
    "    plt.show()"
   ]
  },
  {
   "cell_type": "markdown",
   "id": "b9c914ee",
   "metadata": {},
   "source": [
    "Let's examine the top 10 companies that do not give timely responses and in terms of percentage."
   ]
  },
  {
   "cell_type": "code",
   "execution_count": 56,
   "id": "343b000c",
   "metadata": {},
   "outputs": [],
   "source": [
    "vc = df[df['Timely response?']=='No']['Company'].value_counts()"
   ]
  },
  {
   "cell_type": "code",
   "execution_count": 59,
   "id": "63794ddd",
   "metadata": {},
   "outputs": [
    {
     "name": "stdout",
     "output_type": "stream",
     "text": [
      "Company\n",
      "BANK OF AMERICA, NATIONAL ASSOCIATION               268\n",
      "CLGF Holdco 1, LLC                                  183\n",
      "TRUIST FINANCIAL CORPORATION                        109\n",
      "Self Financial Inc.                                  76\n",
      "HCFS Healthcare Financial Services of TeamHealth     68\n",
      "CCS Financial Services, Inc.                         67\n",
      "Commonwealth Financial Systems, Inc.                 46\n",
      "AmerAssist A/R Solutions, Inc.                       41\n",
      "SANTANDER BANK, NATIONAL ASSOCIATION                 39\n",
      "Sezzle Inc.                                          36\n",
      "Name: count, dtype: int64\n"
     ]
    }
   ],
   "source": [
    "print(vc[vc > 10].head(10))"
   ]
  },
  {
   "cell_type": "code",
   "execution_count": 58,
   "id": "c00fb617",
   "metadata": {},
   "outputs": [
    {
     "name": "stdout",
     "output_type": "stream",
     "text": [
      "Company\n",
      "BANK OF AMERICA, NATIONAL ASSOCIATION               0.100037\n",
      "CLGF Holdco 1, LLC                                  0.068309\n",
      "TRUIST FINANCIAL CORPORATION                        0.040687\n",
      "Self Financial Inc.                                 0.028369\n",
      "HCFS Healthcare Financial Services of TeamHealth    0.025383\n",
      "CCS Financial Services, Inc.                        0.025009\n",
      "Commonwealth Financial Systems, Inc.                0.017171\n",
      "AmerAssist A/R Solutions, Inc.                      0.015304\n",
      "SANTANDER BANK, NATIONAL ASSOCIATION                0.014558\n",
      "Sezzle Inc.                                         0.013438\n",
      "Name: count, dtype: float64\n"
     ]
    }
   ],
   "source": [
    "print(vc[vc > 10].head(10)/len(filtered_df))"
   ]
  },
  {
   "cell_type": "markdown",
   "id": "1e752d3e",
   "metadata": {},
   "source": [
    "We will now do a chi-square analysis on which on the remaining categorical features (that is, not including customer narrative) contribute the most to timely response."
   ]
  },
  {
   "cell_type": "code",
   "execution_count": 60,
   "id": "3d378609",
   "metadata": {},
   "outputs": [
    {
     "name": "stderr",
     "output_type": "stream",
     "text": [
      "C:\\Users\\Whyme\\AppData\\Local\\Temp\\ipykernel_988\\3233475035.py:10: SettingWithCopyWarning: \n",
      "A value is trying to be set on a copy of a slice from a DataFrame.\n",
      "Try using .loc[row_indexer,col_indexer] = value instead\n",
      "\n",
      "See the caveats in the documentation: https://pandas.pydata.org/pandas-docs/stable/user_guide/indexing.html#returning-a-view-versus-a-copy\n",
      "  features['Sub-issue'] = features['Sub-issue'].fillna('Unknown')\n",
      "C:\\Users\\Whyme\\AppData\\Local\\Temp\\ipykernel_988\\3233475035.py:11: SettingWithCopyWarning: \n",
      "A value is trying to be set on a copy of a slice from a DataFrame.\n",
      "Try using .loc[row_indexer,col_indexer] = value instead\n",
      "\n",
      "See the caveats in the documentation: https://pandas.pydata.org/pandas-docs/stable/user_guide/indexing.html#returning-a-view-versus-a-copy\n",
      "  features['Sub-product'] = features['Sub-product'].fillna('Unknown')\n"
     ]
    },
    {
     "name": "stdout",
     "output_type": "stream",
     "text": [
      "       Feature    Chi2 Score  Mutual Information\n",
      "0      Product    438.308877            0.035215\n",
      "1  Sub-product  11637.511203            0.025939\n",
      "2        Issue    116.840417            0.015106\n",
      "3    Sub-issue   3821.315159            0.013039\n",
      "4      Company  63423.890990            0.033162\n"
     ]
    }
   ],
   "source": [
    "from sklearn.feature_selection import chi2, SelectKBest, mutual_info_classif\n",
    "from sklearn.preprocessing import OrdinalEncoder\n",
    "import re\n",
    "\n",
    "# Define the features and target\n",
    "features = df[['Product', 'Sub-product', 'Issue', 'Sub-issue', 'Company']]\n",
    "target = df['Timely response?'].apply(lambda x: 1 if x == 'Yes' else 0)\n",
    "\n",
    "# Fill missing values in 'Sub-issue' column\n",
    "features['Sub-issue'] = features['Sub-issue'].fillna('Unknown')\n",
    "features['Sub-product'] = features['Sub-product'].fillna('Unknown')\n",
    "\n",
    "\n",
    "# Encode categorical features\n",
    "encoder = OrdinalEncoder()\n",
    "encoded_features = encoder.fit_transform(features)\n",
    "\n",
    "# Chi-Square Test\n",
    "chi2_selector = SelectKBest(chi2, k='all')\n",
    "chi2_selector.fit(encoded_features, target)\n",
    "chi2_scores = chi2_selector.scores_\n",
    "\n",
    "# Mutual Information\n",
    "mi_selector = mutual_info_classif(encoded_features, target)\n",
    "mi_scores = mi_selector\n",
    "\n",
    "# Create a DataFrame to display the scores\n",
    "feature_scores = pd.DataFrame({\n",
    "    'Feature': features.columns,\n",
    "    'Chi2 Score': chi2_scores,\n",
    "    'Mutual Information': mi_scores\n",
    "})\n",
    "\n",
    "print(feature_scores)"
   ]
  },
  {
   "cell_type": "code",
   "execution_count": 47,
   "id": "a9d38095",
   "metadata": {},
   "outputs": [
    {
     "data": {
      "text/html": [
       "<div>\n",
       "<style scoped>\n",
       "    .dataframe tbody tr th:only-of-type {\n",
       "        vertical-align: middle;\n",
       "    }\n",
       "\n",
       "    .dataframe tbody tr th {\n",
       "        vertical-align: top;\n",
       "    }\n",
       "\n",
       "    .dataframe thead th {\n",
       "        text-align: right;\n",
       "    }\n",
       "</style>\n",
       "<table border=\"1\" class=\"dataframe\">\n",
       "  <thead>\n",
       "    <tr style=\"text-align: right;\">\n",
       "      <th></th>\n",
       "      <th>Feature</th>\n",
       "      <th>Chi2 Score</th>\n",
       "      <th>Mutual Information</th>\n",
       "    </tr>\n",
       "  </thead>\n",
       "  <tbody>\n",
       "    <tr>\n",
       "      <th>0</th>\n",
       "      <td>Product</td>\n",
       "      <td>438.308877</td>\n",
       "      <td>0.035797</td>\n",
       "    </tr>\n",
       "    <tr>\n",
       "      <th>4</th>\n",
       "      <td>Company</td>\n",
       "      <td>63423.890990</td>\n",
       "      <td>0.033308</td>\n",
       "    </tr>\n",
       "    <tr>\n",
       "      <th>1</th>\n",
       "      <td>Sub-product</td>\n",
       "      <td>11637.511203</td>\n",
       "      <td>0.026384</td>\n",
       "    </tr>\n",
       "    <tr>\n",
       "      <th>2</th>\n",
       "      <td>Issue</td>\n",
       "      <td>116.840417</td>\n",
       "      <td>0.015173</td>\n",
       "    </tr>\n",
       "    <tr>\n",
       "      <th>3</th>\n",
       "      <td>Sub-issue</td>\n",
       "      <td>3821.315159</td>\n",
       "      <td>0.013437</td>\n",
       "    </tr>\n",
       "  </tbody>\n",
       "</table>\n",
       "</div>"
      ],
      "text/plain": [
       "       Feature    Chi2 Score  Mutual Information\n",
       "0      Product    438.308877            0.035797\n",
       "4      Company  63423.890990            0.033308\n",
       "1  Sub-product  11637.511203            0.026384\n",
       "2        Issue    116.840417            0.015173\n",
       "3    Sub-issue   3821.315159            0.013437"
      ]
     },
     "execution_count": 47,
     "metadata": {},
     "output_type": "execute_result"
    }
   ],
   "source": [
    "feature_scores.sort_values(by='Mutual Information', ascending=False)"
   ]
  },
  {
   "cell_type": "markdown",
   "id": "8f91c466",
   "metadata": {},
   "source": [
    "The conclusion of this data wrangling and EDA is that the top 3 categorical features are 'Product', 'Company', and 'Sub-product'. We will proceed to do NLP on the customer narrative and do a classification model with \"Timely response?' as our target. \n",
    "\n",
    "We will need to be care of the following:\n",
    "- there are only 4 entries that do not contain a 'Sub-product', so we may drop those in the future.\n",
    "- the customer narrative is dedacted with X's\n",
    "- the target variable is imbalanced"
   ]
  }
 ],
 "metadata": {
  "kernelspec": {
   "display_name": "Python 3 (ipykernel)",
   "language": "python",
   "name": "python3"
  },
  "language_info": {
   "codemirror_mode": {
    "name": "ipython",
    "version": 3
   },
   "file_extension": ".py",
   "mimetype": "text/x-python",
   "name": "python",
   "nbconvert_exporter": "python",
   "pygments_lexer": "ipython3",
   "version": "3.9.13"
  }
 },
 "nbformat": 4,
 "nbformat_minor": 5
}
