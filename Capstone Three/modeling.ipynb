{
 "cells": [
  {
   "cell_type": "code",
   "execution_count": 1,
   "id": "a222ef96",
   "metadata": {},
   "outputs": [],
   "source": [
    "#Import packages\n",
    "import numpy as np\n",
    "import pandas as pd\n",
    "import seaborn as sns\n",
    "import matplotlib.pyplot as plt\n",
    "import itertools\n",
    "import warnings\n",
    "warnings.filterwarnings('ignore')\n",
    "\n",
    "#networkx graph computing library\n",
    "import networkx as nx\n",
    "import osmnx as ox\n",
    "import nxviz as nv\n",
    "import geopandas as gp\n",
    "import scipy.stats as stats\n",
    "from shapely.geometry import MultiLineString, Point\n",
    "import shapely as sh\n",
    "from node2vec import Node2Vec\n",
    "\n",
    "import pickle"
   ]
  },
  {
   "cell_type": "code",
   "execution_count": 2,
   "id": "a7c7302a",
   "metadata": {},
   "outputs": [],
   "source": [
    "df = gp.read_file('queensntest.geojson')"
   ]
  },
  {
   "cell_type": "code",
   "execution_count": 3,
   "id": "0dbf97fc",
   "metadata": {
    "scrolled": true
   },
   "outputs": [
    {
     "data": {
      "text/html": [
       "<div>\n",
       "<style scoped>\n",
       "    .dataframe tbody tr th:only-of-type {\n",
       "        vertical-align: middle;\n",
       "    }\n",
       "\n",
       "    .dataframe tbody tr th {\n",
       "        vertical-align: top;\n",
       "    }\n",
       "\n",
       "    .dataframe thead th {\n",
       "        text-align: right;\n",
       "    }\n",
       "</style>\n",
       "<table border=\"1\" class=\"dataframe\">\n",
       "  <thead>\n",
       "    <tr style=\"text-align: right;\">\n",
       "      <th></th>\n",
       "      <th>East Flushing</th>\n",
       "      <th>Woodhaven</th>\n",
       "      <th>Auburndale</th>\n",
       "      <th>Murray Hill</th>\n",
       "      <th>East Elmhurst</th>\n",
       "      <th>Cambria Heights</th>\n",
       "      <th>Elmhurst</th>\n",
       "      <th>Glen Oaks-Floral Park-New Hyde Park</th>\n",
       "      <th>Hammels-Arverne-Edgemere</th>\n",
       "      <th>Jackson Heights</th>\n",
       "      <th>...</th>\n",
       "      <th>Breezy Point-Belle Harbor-Rockaway Park-Broad Channel</th>\n",
       "      <th>Far Rockaway-Bayswater</th>\n",
       "      <th>Rosedale</th>\n",
       "      <th>Flushing</th>\n",
       "      <th>Queensboro Hill</th>\n",
       "      <th>Forest Hills</th>\n",
       "      <th>park-cemetery-etc-Queens</th>\n",
       "      <th>Springfield Gardens South-Brookville</th>\n",
       "      <th>Airport</th>\n",
       "      <th>geometry</th>\n",
       "    </tr>\n",
       "  </thead>\n",
       "  <tbody>\n",
       "    <tr>\n",
       "      <th>0</th>\n",
       "      <td>False</td>\n",
       "      <td>False</td>\n",
       "      <td>False</td>\n",
       "      <td>False</td>\n",
       "      <td>False</td>\n",
       "      <td>False</td>\n",
       "      <td>False</td>\n",
       "      <td>False</td>\n",
       "      <td>False</td>\n",
       "      <td>False</td>\n",
       "      <td>...</td>\n",
       "      <td>False</td>\n",
       "      <td>False</td>\n",
       "      <td>False</td>\n",
       "      <td>False</td>\n",
       "      <td>False</td>\n",
       "      <td>False</td>\n",
       "      <td>False</td>\n",
       "      <td>False</td>\n",
       "      <td>False</td>\n",
       "      <td>MULTILINESTRING ((-73.81733 40.66489, -73.8167...</td>\n",
       "    </tr>\n",
       "    <tr>\n",
       "      <th>1</th>\n",
       "      <td>False</td>\n",
       "      <td>False</td>\n",
       "      <td>False</td>\n",
       "      <td>False</td>\n",
       "      <td>False</td>\n",
       "      <td>False</td>\n",
       "      <td>False</td>\n",
       "      <td>False</td>\n",
       "      <td>False</td>\n",
       "      <td>False</td>\n",
       "      <td>...</td>\n",
       "      <td>False</td>\n",
       "      <td>False</td>\n",
       "      <td>False</td>\n",
       "      <td>False</td>\n",
       "      <td>False</td>\n",
       "      <td>False</td>\n",
       "      <td>False</td>\n",
       "      <td>False</td>\n",
       "      <td>False</td>\n",
       "      <td>MULTILINESTRING ((-73.81939 40.70765, -73.8188...</td>\n",
       "    </tr>\n",
       "    <tr>\n",
       "      <th>2</th>\n",
       "      <td>False</td>\n",
       "      <td>False</td>\n",
       "      <td>False</td>\n",
       "      <td>False</td>\n",
       "      <td>False</td>\n",
       "      <td>False</td>\n",
       "      <td>False</td>\n",
       "      <td>False</td>\n",
       "      <td>False</td>\n",
       "      <td>False</td>\n",
       "      <td>...</td>\n",
       "      <td>False</td>\n",
       "      <td>False</td>\n",
       "      <td>False</td>\n",
       "      <td>True</td>\n",
       "      <td>False</td>\n",
       "      <td>False</td>\n",
       "      <td>False</td>\n",
       "      <td>False</td>\n",
       "      <td>False</td>\n",
       "      <td>MULTILINESTRING ((-73.82472 40.75549, -73.8239...</td>\n",
       "    </tr>\n",
       "    <tr>\n",
       "      <th>3</th>\n",
       "      <td>False</td>\n",
       "      <td>False</td>\n",
       "      <td>False</td>\n",
       "      <td>False</td>\n",
       "      <td>False</td>\n",
       "      <td>False</td>\n",
       "      <td>False</td>\n",
       "      <td>False</td>\n",
       "      <td>False</td>\n",
       "      <td>False</td>\n",
       "      <td>...</td>\n",
       "      <td>False</td>\n",
       "      <td>False</td>\n",
       "      <td>False</td>\n",
       "      <td>False</td>\n",
       "      <td>False</td>\n",
       "      <td>False</td>\n",
       "      <td>False</td>\n",
       "      <td>False</td>\n",
       "      <td>False</td>\n",
       "      <td>MULTILINESTRING ((-73.77800 40.71405, -73.7773...</td>\n",
       "    </tr>\n",
       "    <tr>\n",
       "      <th>4</th>\n",
       "      <td>False</td>\n",
       "      <td>False</td>\n",
       "      <td>False</td>\n",
       "      <td>False</td>\n",
       "      <td>False</td>\n",
       "      <td>False</td>\n",
       "      <td>False</td>\n",
       "      <td>False</td>\n",
       "      <td>False</td>\n",
       "      <td>False</td>\n",
       "      <td>...</td>\n",
       "      <td>False</td>\n",
       "      <td>False</td>\n",
       "      <td>False</td>\n",
       "      <td>False</td>\n",
       "      <td>False</td>\n",
       "      <td>False</td>\n",
       "      <td>False</td>\n",
       "      <td>False</td>\n",
       "      <td>False</td>\n",
       "      <td>MULTILINESTRING ((-73.78302 40.68428, -73.7826...</td>\n",
       "    </tr>\n",
       "  </tbody>\n",
       "</table>\n",
       "<p>5 rows × 59 columns</p>\n",
       "</div>"
      ],
      "text/plain": [
       "   East Flushing  Woodhaven  Auburndale  Murray Hill  East Elmhurst  \\\n",
       "0          False      False       False        False          False   \n",
       "1          False      False       False        False          False   \n",
       "2          False      False       False        False          False   \n",
       "3          False      False       False        False          False   \n",
       "4          False      False       False        False          False   \n",
       "\n",
       "   Cambria Heights  Elmhurst  Glen Oaks-Floral Park-New Hyde Park  \\\n",
       "0            False     False                                False   \n",
       "1            False     False                                False   \n",
       "2            False     False                                False   \n",
       "3            False     False                                False   \n",
       "4            False     False                                False   \n",
       "\n",
       "   Hammels-Arverne-Edgemere  Jackson Heights  ...  \\\n",
       "0                     False            False  ...   \n",
       "1                     False            False  ...   \n",
       "2                     False            False  ...   \n",
       "3                     False            False  ...   \n",
       "4                     False            False  ...   \n",
       "\n",
       "   Breezy Point-Belle Harbor-Rockaway Park-Broad Channel  \\\n",
       "0                                              False       \n",
       "1                                              False       \n",
       "2                                              False       \n",
       "3                                              False       \n",
       "4                                              False       \n",
       "\n",
       "   Far Rockaway-Bayswater  Rosedale  Flushing  Queensboro Hill  Forest Hills  \\\n",
       "0                   False     False     False            False         False   \n",
       "1                   False     False     False            False         False   \n",
       "2                   False     False      True            False         False   \n",
       "3                   False     False     False            False         False   \n",
       "4                   False     False     False            False         False   \n",
       "\n",
       "   park-cemetery-etc-Queens  Springfield Gardens South-Brookville  Airport  \\\n",
       "0                     False                                 False    False   \n",
       "1                     False                                 False    False   \n",
       "2                     False                                 False    False   \n",
       "3                     False                                 False    False   \n",
       "4                     False                                 False    False   \n",
       "\n",
       "                                            geometry  \n",
       "0  MULTILINESTRING ((-73.81733 40.66489, -73.8167...  \n",
       "1  MULTILINESTRING ((-73.81939 40.70765, -73.8188...  \n",
       "2  MULTILINESTRING ((-73.82472 40.75549, -73.8239...  \n",
       "3  MULTILINESTRING ((-73.77800 40.71405, -73.7773...  \n",
       "4  MULTILINESTRING ((-73.78302 40.68428, -73.7826...  \n",
       "\n",
       "[5 rows x 59 columns]"
      ]
     },
     "execution_count": 3,
     "metadata": {},
     "output_type": "execute_result"
    }
   ],
   "source": [
    "df.head()"
   ]
  },
  {
   "cell_type": "code",
   "execution_count": 3,
   "id": "f4339046",
   "metadata": {},
   "outputs": [],
   "source": [
    "G = nx.Graph()"
   ]
  },
  {
   "cell_type": "code",
   "execution_count": 4,
   "id": "fc570b47",
   "metadata": {
    "scrolled": true
   },
   "outputs": [],
   "source": [
    "def add_multilinestring_to_graph(mls, properties, G):\n",
    "    for linestring in list(mls.geoms):\n",
    "        for i in range(len(linestring.coords) - 1):\n",
    "            p1 = Point(linestring.coords[i])\n",
    "            p2 = Point(linestring.coords[i + 1])\n",
    "            G.add_node(p1, **properties)\n",
    "            G.add_node(p2, **properties)\n",
    "            G.add_edge(p1, p2)"
   ]
  },
  {
   "cell_type": "code",
   "execution_count": 5,
   "id": "9167bdce",
   "metadata": {},
   "outputs": [],
   "source": [
    "for idx, row in df.iterrows():\n",
    "    properties = row.drop('geometry').to_dict()\n",
    "    add_multilinestring_to_graph(row['geometry'], properties, G)"
   ]
  },
  {
   "cell_type": "code",
   "execution_count": 6,
   "id": "851286e5",
   "metadata": {},
   "outputs": [],
   "source": [
    "between = np.load('between.npy',allow_pickle='TRUE').item()"
   ]
  },
  {
   "cell_type": "code",
   "execution_count": 8,
   "id": "5c7880fa",
   "metadata": {},
   "outputs": [],
   "source": [
    "#node2vec = Node2Vec(G, dimensions=64, walk_length=30, num_walks=200, workers=4)\n",
    "#model = node2vec.fit(window=10, min_count=1, batch_words=4)\n",
    "#with open('node2vec_model.pkl', 'wb') as f:\n",
    "#    pickle.dump(model, f)"
   ]
  },
  {
   "cell_type": "code",
   "execution_count": 8,
   "id": "c2470c44",
   "metadata": {},
   "outputs": [],
   "source": [
    "with open('node2vec_model.pkl', 'rb') as f:\n",
    "    model = pickle.load(f)"
   ]
  },
  {
   "cell_type": "code",
   "execution_count": 19,
   "id": "34da233e",
   "metadata": {},
   "outputs": [],
   "source": [
    "node_embeddings = model.wv"
   ]
  },
  {
   "cell_type": "code",
   "execution_count": 10,
   "id": "ff263f61",
   "metadata": {},
   "outputs": [
    {
     "name": "stdout",
     "output_type": "stream",
     "text": [
      "Accuracy: 0.9244910061276932\n"
     ]
    }
   ],
   "source": [
    "import numpy as np\n",
    "from sklearn.model_selection import train_test_split\n",
    "from sklearn.linear_model import LogisticRegression\n",
    "from sklearn.metrics import accuracy_score\n",
    "\n",
    "# Prepare node features and labels (assuming you have node labels)\n",
    "X = np.array([node_embeddings[str(node)] for node in G.nodes()])\n",
    "y = [val for (node, val) in G.degree()]\n",
    "\n",
    "# Split data into training and test sets\n",
    "X_train, X_test, y_train, y_test = train_test_split(X, y, test_size=0.3, random_state=42)\n",
    "\n",
    "# Train a classifier\n",
    "clf = LogisticRegression()\n",
    "clf.fit(X_train, y_train)\n",
    "\n",
    "# Predict and evaluate\n",
    "y_pred = clf.predict(X_test)\n",
    "accuracy = accuracy_score(y_test, y_pred)\n",
    "print(f\"Accuracy: {accuracy}\")"
   ]
  },
  {
   "cell_type": "code",
   "execution_count": 17,
   "id": "c0bc0769",
   "metadata": {},
   "outputs": [],
   "source": [
    "G_simple = nx.Graph(G)\n",
    "S = [G_simple.subgraph(c).copy() for c in nx.connected_components(G_simple)]\n",
    "S_simple = nx.Graph(S[0])\n",
    "S_simple2 = nx.Graph(S[0])"
   ]
  },
  {
   "cell_type": "code",
   "execution_count": 12,
   "id": "4ec3a1ff",
   "metadata": {},
   "outputs": [
    {
     "data": {
      "text/plain": [
       "'Graph with 16832 nodes and 17741 edges'"
      ]
     },
     "execution_count": 12,
     "metadata": {},
     "output_type": "execute_result"
    }
   ],
   "source": [
    "nx.info(nx.Graph(S[0]))"
   ]
  },
  {
   "cell_type": "code",
   "execution_count": 23,
   "id": "a486bada",
   "metadata": {},
   "outputs": [],
   "source": [
    "#between =  nx.betweenness_centrality(S[0])\n",
    "#np.save('between.npy', between)"
   ]
  },
  {
   "cell_type": "code",
   "execution_count": 53,
   "id": "3d0adb6a",
   "metadata": {},
   "outputs": [
    {
     "data": {
      "text/plain": [
       "'Graph with 9809 nodes and 10716 edges'"
      ]
     },
     "execution_count": 53,
     "metadata": {},
     "output_type": "execute_result"
    }
   ],
   "source": [
    "nx.info(S_simple)"
   ]
  },
  {
   "cell_type": "markdown",
   "id": "34d271ee",
   "metadata": {},
   "source": [
    "Now we know some basic robustness measurements, so it is time to see how robust is our network really? For this we will attack the networks nodes with two approaches:\n",
    "\n",
    "1. Delete nodes according to the calculated betweenness centrality, going from high scoring nodes to low scoring ones\n",
    "2. Random node failures, deleting nodes by random\n",
    "\n",
    "Deleting nodes will have the effect that the giant component, the largest connected component in the graph, will shrink and some nodes might have a specific role in this process which cause a drastic shrinkage of the giant component.\n",
    "\n",
    "Node remmoval by betweenness centrality vs random\n"
   ]
  },
  {
   "cell_type": "code",
   "execution_count": 18,
   "id": "e5f4702c",
   "metadata": {},
   "outputs": [
    {
     "data": {
      "image/png": "[encoded data removed]",
      "text/plain": [
       "<Figure size 1200x800 with 1 Axes>"
      ]
     },
     "metadata": {},
     "output_type": "display_data"
    }
   ],
   "source": [
    "import operator\n",
    "from random import shuffle\n",
    "from random import randrange\n",
    "from random import randint\n",
    "import random\n",
    "import matplotlib.ticker as mtick\n",
    "\n",
    "sorted_x = sorted(between.items(), key=operator.itemgetter(1), reverse=True)\n",
    "rand_x = list(range(0,16830))\n",
    "\n",
    "random.shuffle(rand_x)\n",
    "between_giant = []\n",
    "between_rand = []\n",
    "avg_degs = []\n",
    "\n",
    "for x in range(16800):\n",
    " \n",
    "        remove = sorted_x[x]      \n",
    "        remove2 = sorted_x[rand_x[x]]\n",
    "        S_simple.remove_nodes_from(remove)\n",
    "        S_simple2.remove_nodes_from(remove2)\n",
    "             \n",
    "        giant = len(max((S_simple.subgraph(c) for c in nx.connected_components(S_simple)), key=len, default=0))\n",
    "        giant2 = len(max((S_simple2.subgraph(c) for c in nx.connected_components(S_simple2)), key=len, default=0))\n",
    "\n",
    "        between_giant.append(giant)\n",
    "        between_rand.append(giant2)\n",
    "\n",
    "y1 = between_giant\n",
    "y2 = between_giant\n",
    "\n",
    "y1= y1[ :-1]\n",
    "y2= y2[1: ]\n",
    "\n",
    "perc = np.linspace(0,100,len(between_giant))\n",
    "fig = plt.figure(1, (12,8))\n",
    "ax = fig.add_subplot(1,1,1)\n",
    "\n",
    "ax.plot(perc, between_giant)\n",
    "ax.plot(perc, between_rand)\n",
    "\n",
    "fmt = '%.0f%%' # Format you want the ticks, e.g. '40%'\n",
    "xticks = mtick.FormatStrFormatter(fmt)\n",
    "ax.xaxis.set_major_formatter(xticks)\n",
    "ax.set_xlabel('Fraction of Nodes Removed')\n",
    "ax.set_ylabel('Giant Component Size')\n",
    "ax.legend(['betweenness','random'])\n",
    "ax.set_title('Network Attacks')\n",
    "plt.show()"
   ]
  },
  {
   "cell_type": "markdown",
   "id": "51ab084b",
   "metadata": {},
   "source": [
    "Recall that the node connectivity is 1, so it only takes 1 node to sever the connected network into multiple components. The Giant Component Size represents the number of nodes in the network whole as more and more nodes are taken away. The rapid decline in this size means that each individual node is important in maintaining the connectivity of the whole network. At around 18% of nodes deleted, we 1/5 of the size of the network and at 60% deletion, the routes are almost all disconnected. \n",
    "\n",
    "This may not be the best way to measure network robustness because taking away random nodes makes the network decline much faster than taking away what seems to be \"important nodes\" based on betweenness centrality. This may be because there may be redundancies for the nodes with high betweenness centrality, while any random node can detach a path/deadend."
   ]
  },
  {
   "cell_type": "code",
   "execution_count": null,
   "id": "23503732",
   "metadata": {},
   "outputs": [],
   "source": [
    "from sklearn.model_selection import train_test_split\n",
    "from sklearn.linear_model import LogisticRegression\n",
    "from sklearn.metrics import roc_auc_score\n",
    "from joblib import Parallel, delayed\n",
    "\n",
    "# Create positive and negative examples for link prediction\n",
    "edges = list(G.edges())\n",
    "non_edges = list(nx.non_edges(G))\n",
    "labels = [1] * len(edges) + [0] * len(non_edges)\n",
    "pairs = edges + non_edges\n",
    "\n",
    "# Compute embeddings for edge pairs\n",
    "def get_edge_features(pair):\n",
    "    return np.concatenate([node_embeddings[str(pair[0])], node_embeddings[str(pair[1])]])\n",
    "\n",
    "# Use joblib to parallelize the feature extraction\n",
    "n_jobs = -1  # Use all available cores\n",
    "X = Parallel(n_jobs=n_jobs)(delayed(get_edge_features)(pair) for pair in pairs)\n",
    "X = np.array(X)\n",
    "y = np.array(labels)\n",
    "\n",
    "# Split data into training and test sets\n",
    "X_train, X_test, y_train, y_test = train_test_split(X, y, test_size=0.3, random_state=42)\n",
    "\n",
    "# Train a classifier\n",
    "clf = LogisticRegression()\n",
    "clf.fit(X_train, y_train)\n",
    "\n",
    "# Predict and evaluate\n",
    "y_pred = clf.predict_proba(X_test)[:, 1]\n",
    "auc = roc_auc_score(y_test, y_pred)\n",
    "print(f\"AUC: {auc}\")"
   ]
  },
  {
   "cell_type": "code",
   "execution_count": null,
   "id": "da9c84f2",
   "metadata": {},
   "outputs": [],
   "source": []
  }
 ],
 "metadata": {
  "kernelspec": {
   "display_name": "Python 3 (ipykernel)",
   "language": "python",
   "name": "python3"
  },
  "language_info": {
   "codemirror_mode": {
    "name": "ipython",
    "version": 3
   },
   "file_extension": ".py",
   "mimetype": "text/x-python",
   "name": "python",
   "nbconvert_exporter": "python",
   "pygments_lexer": "ipython3",
   "version": "3.9.13"
  }
 },
 "nbformat": 4,
 "nbformat_minor": 5
}
