{
 "cells": [
  {
   "cell_type": "code",
   "execution_count": 1,
   "id": "b7551692",
   "metadata": {},
   "outputs": [],
   "source": [
    "import pandas as pd\n",
    "import matplotlib.pyplot as plt\n",
    "from sklearn.preprocessing import StandardScaler, RobustScaler, PowerTransformer"
   ]
  },
  {
   "cell_type": "code",
   "execution_count": 2,
   "id": "a651f088",
   "metadata": {},
   "outputs": [],
   "source": [
    "df = pd.read_csv('df_SF.csv')"
   ]
  },
  {
   "cell_type": "code",
   "execution_count": 3,
   "id": "990e91ea",
   "metadata": {},
   "outputs": [],
   "source": [
    "df.drop(['DS_PM_stdd','station','date'],axis=1,inplace=True)"
   ]
  },
  {
   "cell_type": "code",
   "execution_count": 5,
   "id": "ec63daeb",
   "metadata": {},
   "outputs": [],
   "source": [
    "#valid is a time stamp and should have the day, month, year, hour separated\n",
    "df['valid']=pd.to_datetime(df['valid'])\n",
    "df['year']=df['valid'].dt.year\n",
    "df['month']=df['valid'].dt.month\n",
    "df['day']=df['valid'].dt.day\n",
    "df['hour']=df['valid'].dt.hour\n",
    "df.drop(['valid'],axis=1,inplace=True)"
   ]
  },
  {
   "cell_type": "code",
   "execution_count": 6,
   "id": "70898094",
   "metadata": {},
   "outputs": [],
   "source": [
    "#create a new col 'loc' in order to make ('lon,'lat') into a categorical variable\n",
    "df['location']=[x for x in zip(df['lon'],df['lat'])]\n",
    "df.drop(['lon','lat'],axis=1,inplace=True)"
   ]
  },
  {
   "cell_type": "code",
   "execution_count": 7,
   "id": "66885764",
   "metadata": {},
   "outputs": [
    {
     "data": {
      "text/html": [
       "<div>\n",
       "<style scoped>\n",
       "    .dataframe tbody tr th:only-of-type {\n",
       "        vertical-align: middle;\n",
       "    }\n",
       "\n",
       "    .dataframe tbody tr th {\n",
       "        vertical-align: top;\n",
       "    }\n",
       "\n",
       "    .dataframe thead th {\n",
       "        text-align: right;\n",
       "    }\n",
       "</style>\n",
       "<table border=\"1\" class=\"dataframe\">\n",
       "  <thead>\n",
       "    <tr style=\"text-align: right;\">\n",
       "      <th></th>\n",
       "      <th>DS_PM_pred</th>\n",
       "      <th>tmpf</th>\n",
       "      <th>relh</th>\n",
       "      <th>drct</th>\n",
       "      <th>sped</th>\n",
       "      <th>year</th>\n",
       "      <th>month</th>\n",
       "      <th>day</th>\n",
       "      <th>hour</th>\n",
       "      <th>location</th>\n",
       "    </tr>\n",
       "  </thead>\n",
       "  <tbody>\n",
       "    <tr>\n",
       "      <th>84917819</th>\n",
       "      <td>4.028</td>\n",
       "      <td>54.0</td>\n",
       "      <td>41.11</td>\n",
       "      <td>350.0</td>\n",
       "      <td>19.55</td>\n",
       "      <td>2019</td>\n",
       "      <td>1</td>\n",
       "      <td>1</td>\n",
       "      <td>0</td>\n",
       "      <td>(-122.5131, 37.86929)</td>\n",
       "    </tr>\n",
       "    <tr>\n",
       "      <th>84917820</th>\n",
       "      <td>4.028</td>\n",
       "      <td>54.0</td>\n",
       "      <td>42.98</td>\n",
       "      <td>350.0</td>\n",
       "      <td>21.85</td>\n",
       "      <td>2019</td>\n",
       "      <td>1</td>\n",
       "      <td>1</td>\n",
       "      <td>1</td>\n",
       "      <td>(-122.5131, 37.86929)</td>\n",
       "    </tr>\n",
       "    <tr>\n",
       "      <th>84917821</th>\n",
       "      <td>4.028</td>\n",
       "      <td>53.0</td>\n",
       "      <td>40.96</td>\n",
       "      <td>350.0</td>\n",
       "      <td>28.75</td>\n",
       "      <td>2019</td>\n",
       "      <td>1</td>\n",
       "      <td>1</td>\n",
       "      <td>2</td>\n",
       "      <td>(-122.5131, 37.86929)</td>\n",
       "    </tr>\n",
       "    <tr>\n",
       "      <th>84917822</th>\n",
       "      <td>4.028</td>\n",
       "      <td>53.0</td>\n",
       "      <td>42.48</td>\n",
       "      <td>360.0</td>\n",
       "      <td>27.60</td>\n",
       "      <td>2019</td>\n",
       "      <td>1</td>\n",
       "      <td>1</td>\n",
       "      <td>3</td>\n",
       "      <td>(-122.5131, 37.86929)</td>\n",
       "    </tr>\n",
       "    <tr>\n",
       "      <th>84917823</th>\n",
       "      <td>4.028</td>\n",
       "      <td>52.0</td>\n",
       "      <td>46.25</td>\n",
       "      <td>360.0</td>\n",
       "      <td>21.85</td>\n",
       "      <td>2019</td>\n",
       "      <td>1</td>\n",
       "      <td>1</td>\n",
       "      <td>4</td>\n",
       "      <td>(-122.5131, 37.86929)</td>\n",
       "    </tr>\n",
       "    <tr>\n",
       "      <th>...</th>\n",
       "      <td>...</td>\n",
       "      <td>...</td>\n",
       "      <td>...</td>\n",
       "      <td>...</td>\n",
       "      <td>...</td>\n",
       "      <td>...</td>\n",
       "      <td>...</td>\n",
       "      <td>...</td>\n",
       "      <td>...</td>\n",
       "      <td>...</td>\n",
       "    </tr>\n",
       "    <tr>\n",
       "      <th>89082870</th>\n",
       "      <td>2.467</td>\n",
       "      <td>54.0</td>\n",
       "      <td>42.98</td>\n",
       "      <td>350.0</td>\n",
       "      <td>27.60</td>\n",
       "      <td>2018</td>\n",
       "      <td>12</td>\n",
       "      <td>31</td>\n",
       "      <td>19</td>\n",
       "      <td>(-122.38303, 37.62068)</td>\n",
       "    </tr>\n",
       "    <tr>\n",
       "      <th>89082871</th>\n",
       "      <td>2.467</td>\n",
       "      <td>54.0</td>\n",
       "      <td>42.98</td>\n",
       "      <td>350.0</td>\n",
       "      <td>28.75</td>\n",
       "      <td>2018</td>\n",
       "      <td>12</td>\n",
       "      <td>31</td>\n",
       "      <td>20</td>\n",
       "      <td>(-122.38303, 37.62068)</td>\n",
       "    </tr>\n",
       "    <tr>\n",
       "      <th>89082872</th>\n",
       "      <td>2.467</td>\n",
       "      <td>55.0</td>\n",
       "      <td>38.21</td>\n",
       "      <td>350.0</td>\n",
       "      <td>26.45</td>\n",
       "      <td>2018</td>\n",
       "      <td>12</td>\n",
       "      <td>31</td>\n",
       "      <td>21</td>\n",
       "      <td>(-122.38303, 37.62068)</td>\n",
       "    </tr>\n",
       "    <tr>\n",
       "      <th>89082873</th>\n",
       "      <td>2.467</td>\n",
       "      <td>54.0</td>\n",
       "      <td>39.63</td>\n",
       "      <td>360.0</td>\n",
       "      <td>21.85</td>\n",
       "      <td>2018</td>\n",
       "      <td>12</td>\n",
       "      <td>31</td>\n",
       "      <td>22</td>\n",
       "      <td>(-122.38303, 37.62068)</td>\n",
       "    </tr>\n",
       "    <tr>\n",
       "      <th>89082874</th>\n",
       "      <td>2.467</td>\n",
       "      <td>54.0</td>\n",
       "      <td>37.89</td>\n",
       "      <td>350.0</td>\n",
       "      <td>18.40</td>\n",
       "      <td>2018</td>\n",
       "      <td>12</td>\n",
       "      <td>31</td>\n",
       "      <td>23</td>\n",
       "      <td>(-122.38303, 37.62068)</td>\n",
       "    </tr>\n",
       "  </tbody>\n",
       "</table>\n",
       "<p>4165056 rows × 10 columns</p>\n",
       "</div>"
      ],
      "text/plain": [
       "          DS_PM_pred  tmpf   relh   drct   sped  year  month  day  hour  \\\n",
       "84917819       4.028  54.0  41.11  350.0  19.55  2019      1    1     0   \n",
       "84917820       4.028  54.0  42.98  350.0  21.85  2019      1    1     1   \n",
       "84917821       4.028  53.0  40.96  350.0  28.75  2019      1    1     2   \n",
       "84917822       4.028  53.0  42.48  360.0  27.60  2019      1    1     3   \n",
       "84917823       4.028  52.0  46.25  360.0  21.85  2019      1    1     4   \n",
       "...              ...   ...    ...    ...    ...   ...    ...  ...   ...   \n",
       "89082870       2.467  54.0  42.98  350.0  27.60  2018     12   31    19   \n",
       "89082871       2.467  54.0  42.98  350.0  28.75  2018     12   31    20   \n",
       "89082872       2.467  55.0  38.21  350.0  26.45  2018     12   31    21   \n",
       "89082873       2.467  54.0  39.63  360.0  21.85  2018     12   31    22   \n",
       "89082874       2.467  54.0  37.89  350.0  18.40  2018     12   31    23   \n",
       "\n",
       "                        location  \n",
       "84917819   (-122.5131, 37.86929)  \n",
       "84917820   (-122.5131, 37.86929)  \n",
       "84917821   (-122.5131, 37.86929)  \n",
       "84917822   (-122.5131, 37.86929)  \n",
       "84917823   (-122.5131, 37.86929)  \n",
       "...                          ...  \n",
       "89082870  (-122.38303, 37.62068)  \n",
       "89082871  (-122.38303, 37.62068)  \n",
       "89082872  (-122.38303, 37.62068)  \n",
       "89082873  (-122.38303, 37.62068)  \n",
       "89082874  (-122.38303, 37.62068)  \n",
       "\n",
       "[4165056 rows x 10 columns]"
      ]
     },
     "execution_count": 7,
     "metadata": {},
     "output_type": "execute_result"
    }
   ],
   "source": [
    "df"
   ]
  },
  {
   "cell_type": "code",
   "execution_count": 9,
   "id": "3136add6",
   "metadata": {},
   "outputs": [
    {
     "data": {
      "text/plain": [
       "224"
      ]
     },
     "execution_count": 9,
     "metadata": {},
     "output_type": "execute_result"
    }
   ],
   "source": [
    "df['location'].nunique()"
   ]
  },
  {
   "cell_type": "code",
   "execution_count": 10,
   "id": "8d919e01",
   "metadata": {},
   "outputs": [
    {
     "data": {
      "text/plain": [
       "DS_PM_pred                   176.822\n",
       "tmpf                            58.0\n",
       "relh                           64.47\n",
       "drct                            90.0\n",
       "sped                            3.45\n",
       "year                            2018\n",
       "month                             11\n",
       "day                               16\n",
       "hour                               0\n",
       "location      (-122.40626, 37.75891)\n",
       "Name: 88805987, dtype: object"
      ]
     },
     "execution_count": 10,
     "metadata": {},
     "output_type": "execute_result"
    }
   ],
   "source": [
    "#I found the historically high pm2.5 levels explanation\n",
    "#https://www.sfgate.com/weather/article/Worst-air-quality-in-San-Francisco-Bay-Area-BAAQMD-13511176.php\n",
    "df.loc[df['DS_PM_pred'].idxmax()]"
   ]
  },
  {
   "cell_type": "markdown",
   "id": "49dfbf6e",
   "metadata": {},
   "source": [
    "\"The Camp Fire started on Thursday, November 8, 2018, in Northern California's Butte County. Ignited by a faulty electric transmission line, the fire originated above several communities and an east wind drove the fire downhill through developed areas.\"\n",
    "\n",
    "https://www.fire.ca.gov/our-impact/remembering-the-camp-fire"
   ]
  },
  {
   "cell_type": "code",
   "execution_count": 11,
   "id": "e29debc0",
   "metadata": {},
   "outputs": [
    {
     "data": {
      "image/png": "[encoded data removed]",
      "text/plain": [
       "<Figure size 640x480 with 1 Axes>"
      ]
     },
     "metadata": {},
     "output_type": "display_data"
    },
    {
     "data": {
      "image/png": "[encoded data removed]",
      "text/plain": [
       "<Figure size 640x480 with 1 Axes>"
      ]
     },
     "metadata": {},
     "output_type": "display_data"
    },
    {
     "data": {
      "image/png": "[encoded data removed]",
      "text/plain": [
       "<Figure size 640x480 with 1 Axes>"
      ]
     },
     "metadata": {},
     "output_type": "display_data"
    },
    {
     "data": {
      "image/png": "[encoded data removed]",
      "text/plain": [
       "<Figure size 640x480 with 1 Axes>"
      ]
     },
     "metadata": {},
     "output_type": "display_data"
    },
    {
     "data": {
      "image/png": "[encoded data removed]",
      "text/plain": [
       "<Figure size 640x480 with 1 Axes>"
      ]
     },
     "metadata": {},
     "output_type": "display_data"
    }
   ],
   "source": [
    "%matplotlib inline\n",
    "for i in df[['DS_PM_pred', 'tmpf','relh', 'drct', 'sped']]:\n",
    "    df[i].hist()\n",
    "    plt.title(i)\n",
    "    plt.show()"
   ]
  },
  {
   "cell_type": "code",
   "execution_count": null,
   "id": "28df964b",
   "metadata": {},
   "outputs": [],
   "source": [
    "dfnum = df[['DS_PM_pred', 'tmpf','relh', 'drct', 'sped']]"
   ]
  },
  {
   "cell_type": "markdown",
   "id": "3890d4f6",
   "metadata": {},
   "source": [
    "Questions:\n",
    "\n",
    "1. I assume all the feature engineering for numerical data may be based on the histograms above, which scales are appropriate for each type?\n",
    "Notes: \n",
    "'tmpf' temperature is nearly normal, should I just use StandardScaler?\n",
    "'relh' relative humidity is left skewed. \n",
    "'drct' wind direction has many '0' values whenever there is no wind direction (0 speed) or measure error. RobustScaler?\n",
    "'sped' wind speed is right skewed.\n",
    "\n",
    "2. Should I scale the target value 'DS_PM_pred' after train-test split? It seems like a log transformation because I want to keep the outliers because they are what I want to predict for. However, I don't want information to creep in because it knows to expect outliers if I transform before splitting, correct?\n",
    "\n",
    "3. How should I deal with the location feature? (224 unique locations) One-hot, dummy, etc.?"
   ]
  }
 ],
 "metadata": {
  "kernelspec": {
   "display_name": "Python 3 (ipykernel)",
   "language": "python",
   "name": "python3"
  },
  "language_info": {
   "codemirror_mode": {
    "name": "ipython",
    "version": 3
   },
   "file_extension": ".py",
   "mimetype": "text/x-python",
   "name": "python",
   "nbconvert_exporter": "python",
   "pygments_lexer": "ipython3",
   "version": "3.9.13"
  }
 },
 "nbformat": 4,
 "nbformat_minor": 5
}
