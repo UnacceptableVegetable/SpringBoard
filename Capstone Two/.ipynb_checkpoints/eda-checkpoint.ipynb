{
 "cells": [
  {
   "cell_type": "code",
   "execution_count": 1,
   "id": "6fc92245",
   "metadata": {},
   "outputs": [],
   "source": [
    "import numpy as np\n",
    "import pandas as pd\n",
    "import geopandas as gpd\n",
    "from ydata_profiling import ProfileReport\n",
    "import matplotlib.pyplot as plt\n",
    "import seaborn as sns\n",
    "import statsmodels.api as sm\n",
    "import statsmodels.formula.api as smf\n",
    "from statsmodels.graphics.api import abline_plot \n",
    "from sklearn.metrics import mean_squared_error, r2_score \n",
    "from sklearn.model_selection import train_test_split \n",
    "from sklearn import linear_model, preprocessing \n",
    "from datetime import datetime, timezone"
   ]
  },
  {
   "cell_type": "markdown",
   "id": "f7abe636",
   "metadata": {},
   "source": [
    "The project seeks to predict the duration of dangerous air quality due to wildfire season in San Francisco, and is planned to apply to New York City during Canadian wildfire season with the pertinent data.\n",
    "\n",
    "For context on data wrangling, file sets, and some previous EDA: https://github.com/UnacceptableVegetable/SpringBoard/blob/main/Capstone%20Two/data_wrangling.ipynb\n",
    "\n",
    "The dataset is a merging of datasets from the CDC and ASOS containing the target feature 'DS_PM_pred': Mean estimated 24-hour average PM2.5 concentration in μg/m3, the location of weather stations, temperature, relative humidity, and wind speed/direction. \n",
    "\n",
    "I decided that I should focus on only the San Francisco station (for now), so I needed to be able to read the large CSV file and then write a new CSV file with only SFO's station data and nearby PM2.5 recordings."
   ]
  },
  {
   "cell_type": "code",
   "execution_count": 2,
   "id": "52bc15da",
   "metadata": {},
   "outputs": [],
   "source": [
    "#import dask.dataframe as dd\n",
    "#df = dd.read_csv('df.csv')\n",
    "#df_SF = df[df['station']=='SFO']\n",
    "#df_SF.to_csv(\"df_SF.csv\",index_label=False,single_file=True)"
   ]
  },
  {
   "cell_type": "code",
   "execution_count": 3,
   "id": "437f1e1c",
   "metadata": {},
   "outputs": [],
   "source": [
    "df = pd.read_csv('df_SF.csv')"
   ]
  },
  {
   "cell_type": "code",
   "execution_count": 4,
   "id": "eed45700",
   "metadata": {},
   "outputs": [
    {
     "data": {
      "text/html": [
       "<div>\n",
       "<style scoped>\n",
       "    .dataframe tbody tr th:only-of-type {\n",
       "        vertical-align: middle;\n",
       "    }\n",
       "\n",
       "    .dataframe tbody tr th {\n",
       "        vertical-align: top;\n",
       "    }\n",
       "\n",
       "    .dataframe thead th {\n",
       "        text-align: right;\n",
       "    }\n",
       "</style>\n",
       "<table border=\"1\" class=\"dataframe\">\n",
       "  <thead>\n",
       "    <tr style=\"text-align: right;\">\n",
       "      <th></th>\n",
       "      <th>date</th>\n",
       "      <th>DS_PM_pred</th>\n",
       "      <th>DS_PM_stdd</th>\n",
       "      <th>lon</th>\n",
       "      <th>lat</th>\n",
       "      <th>station</th>\n",
       "      <th>valid</th>\n",
       "      <th>tmpf</th>\n",
       "      <th>relh</th>\n",
       "      <th>drct</th>\n",
       "      <th>sped</th>\n",
       "    </tr>\n",
       "  </thead>\n",
       "  <tbody>\n",
       "    <tr>\n",
       "      <th>84917819</th>\n",
       "      <td>2019-01-01</td>\n",
       "      <td>4.028</td>\n",
       "      <td>2.1545</td>\n",
       "      <td>-122.5131</td>\n",
       "      <td>37.86929</td>\n",
       "      <td>SFO</td>\n",
       "      <td>2019-01-01 00:56:00</td>\n",
       "      <td>54.0</td>\n",
       "      <td>41.11</td>\n",
       "      <td>350.0</td>\n",
       "      <td>19.55</td>\n",
       "    </tr>\n",
       "    <tr>\n",
       "      <th>84917820</th>\n",
       "      <td>2019-01-01</td>\n",
       "      <td>4.028</td>\n",
       "      <td>2.1545</td>\n",
       "      <td>-122.5131</td>\n",
       "      <td>37.86929</td>\n",
       "      <td>SFO</td>\n",
       "      <td>2019-01-01 01:56:00</td>\n",
       "      <td>54.0</td>\n",
       "      <td>42.98</td>\n",
       "      <td>350.0</td>\n",
       "      <td>21.85</td>\n",
       "    </tr>\n",
       "    <tr>\n",
       "      <th>84917821</th>\n",
       "      <td>2019-01-01</td>\n",
       "      <td>4.028</td>\n",
       "      <td>2.1545</td>\n",
       "      <td>-122.5131</td>\n",
       "      <td>37.86929</td>\n",
       "      <td>SFO</td>\n",
       "      <td>2019-01-01 02:56:00</td>\n",
       "      <td>53.0</td>\n",
       "      <td>40.96</td>\n",
       "      <td>350.0</td>\n",
       "      <td>28.75</td>\n",
       "    </tr>\n",
       "    <tr>\n",
       "      <th>84917822</th>\n",
       "      <td>2019-01-01</td>\n",
       "      <td>4.028</td>\n",
       "      <td>2.1545</td>\n",
       "      <td>-122.5131</td>\n",
       "      <td>37.86929</td>\n",
       "      <td>SFO</td>\n",
       "      <td>2019-01-01 03:56:00</td>\n",
       "      <td>53.0</td>\n",
       "      <td>42.48</td>\n",
       "      <td>360.0</td>\n",
       "      <td>27.60</td>\n",
       "    </tr>\n",
       "    <tr>\n",
       "      <th>84917823</th>\n",
       "      <td>2019-01-01</td>\n",
       "      <td>4.028</td>\n",
       "      <td>2.1545</td>\n",
       "      <td>-122.5131</td>\n",
       "      <td>37.86929</td>\n",
       "      <td>SFO</td>\n",
       "      <td>2019-01-01 04:56:00</td>\n",
       "      <td>52.0</td>\n",
       "      <td>46.25</td>\n",
       "      <td>360.0</td>\n",
       "      <td>21.85</td>\n",
       "    </tr>\n",
       "  </tbody>\n",
       "</table>\n",
       "</div>"
      ],
      "text/plain": [
       "                date  DS_PM_pred  DS_PM_stdd       lon       lat station  \\\n",
       "84917819  2019-01-01       4.028      2.1545 -122.5131  37.86929     SFO   \n",
       "84917820  2019-01-01       4.028      2.1545 -122.5131  37.86929     SFO   \n",
       "84917821  2019-01-01       4.028      2.1545 -122.5131  37.86929     SFO   \n",
       "84917822  2019-01-01       4.028      2.1545 -122.5131  37.86929     SFO   \n",
       "84917823  2019-01-01       4.028      2.1545 -122.5131  37.86929     SFO   \n",
       "\n",
       "                        valid  tmpf   relh   drct   sped  \n",
       "84917819  2019-01-01 00:56:00  54.0  41.11  350.0  19.55  \n",
       "84917820  2019-01-01 01:56:00  54.0  42.98  350.0  21.85  \n",
       "84917821  2019-01-01 02:56:00  53.0  40.96  350.0  28.75  \n",
       "84917822  2019-01-01 03:56:00  53.0  42.48  360.0  27.60  \n",
       "84917823  2019-01-01 04:56:00  52.0  46.25  360.0  21.85  "
      ]
     },
     "execution_count": 4,
     "metadata": {},
     "output_type": "execute_result"
    }
   ],
   "source": [
    "df.head()"
   ]
  },
  {
   "cell_type": "code",
   "execution_count": 5,
   "id": "14bdd248",
   "metadata": {},
   "outputs": [],
   "source": [
    "df.drop('station',axis=1,inplace=True) #The only closest \"station\" assignment is now SFO"
   ]
  },
  {
   "cell_type": "code",
   "execution_count": 6,
   "id": "1554ca7b",
   "metadata": {},
   "outputs": [
    {
     "data": {
      "text/plain": [
       "Index(['date', 'DS_PM_pred', 'DS_PM_stdd', 'lon', 'lat', 'valid', 'tmpf',\n",
       "       'relh', 'drct', 'sped'],\n",
       "      dtype='object')"
      ]
     },
     "execution_count": 6,
     "metadata": {},
     "output_type": "execute_result"
    }
   ],
   "source": [
    "df.columns"
   ]
  },
  {
   "cell_type": "code",
   "execution_count": 7,
   "id": "68f2f870",
   "metadata": {},
   "outputs": [],
   "source": [
    "df.valid = pd.to_datetime(df.valid)"
   ]
  },
  {
   "cell_type": "code",
   "execution_count": 8,
   "id": "d1f0f82e",
   "metadata": {},
   "outputs": [],
   "source": [
    "#report = df[['DS_PM_pred', 'DS_PM_stdd', 'lon', 'lat', 'valid', 'tmpf',\n",
    "#       'relh', 'drct', 'sped']].profile_report(\n",
    "#    sort=None, html={\"style\": {\"full_width\": True}}, progress_bar=False\n",
    "#)\n",
    "#report"
   ]
  },
  {
   "cell_type": "markdown",
   "id": "4857c50c",
   "metadata": {},
   "source": [
    "Since the y_data profile does not save to the ipynb file, I will include the heatmap of the correlation table, which I felt to be the most important insight."
   ]
  },
  {
   "cell_type": "code",
   "execution_count": 9,
   "id": "28f4fa68",
   "metadata": {},
   "outputs": [
    {
     "data": {
      "image/png": "[encoded data removed]",
      "text/plain": [
       "<Figure size 1000x1000 with 2 Axes>"
      ]
     },
     "metadata": {},
     "output_type": "display_data"
    }
   ],
   "source": [
    "%matplotlib inline\n",
    "plt.figure(figsize=(10,10))\n",
    "sns.heatmap(df.corr(), annot=True)\n",
    "plt.show()"
   ]
  },
  {
   "cell_type": "markdown",
   "id": "19a87db6",
   "metadata": {},
   "source": [
    "The following is a test on linear regression."
   ]
  },
  {
   "cell_type": "markdown",
   "id": "a3aa65ac",
   "metadata": {},
   "source": [
    "For 'sm.OLS' we need the datetime to be a float."
   ]
  },
  {
   "cell_type": "code",
   "execution_count": 10,
   "id": "878f1693",
   "metadata": {},
   "outputs": [],
   "source": [
    "df['valid'] = [dt.replace(tzinfo=timezone.utc).timestamp() for dt in df['valid']]"
   ]
  },
  {
   "cell_type": "code",
   "execution_count": 11,
   "id": "0758165d",
   "metadata": {
    "scrolled": true
   },
   "outputs": [
    {
     "data": {
      "text/html": [
       "<div>\n",
       "<style scoped>\n",
       "    .dataframe tbody tr th:only-of-type {\n",
       "        vertical-align: middle;\n",
       "    }\n",
       "\n",
       "    .dataframe tbody tr th {\n",
       "        vertical-align: top;\n",
       "    }\n",
       "\n",
       "    .dataframe thead th {\n",
       "        text-align: right;\n",
       "    }\n",
       "</style>\n",
       "<table border=\"1\" class=\"dataframe\">\n",
       "  <thead>\n",
       "    <tr style=\"text-align: right;\">\n",
       "      <th></th>\n",
       "      <th>date</th>\n",
       "      <th>DS_PM_pred</th>\n",
       "      <th>DS_PM_stdd</th>\n",
       "      <th>lon</th>\n",
       "      <th>lat</th>\n",
       "      <th>valid</th>\n",
       "      <th>tmpf</th>\n",
       "      <th>relh</th>\n",
       "      <th>drct</th>\n",
       "      <th>sped</th>\n",
       "    </tr>\n",
       "  </thead>\n",
       "  <tbody>\n",
       "    <tr>\n",
       "      <th>84917819</th>\n",
       "      <td>2019-01-01</td>\n",
       "      <td>4.028</td>\n",
       "      <td>2.1545</td>\n",
       "      <td>-122.5131</td>\n",
       "      <td>37.86929</td>\n",
       "      <td>1.546304e+09</td>\n",
       "      <td>54.0</td>\n",
       "      <td>41.11</td>\n",
       "      <td>350.0</td>\n",
       "      <td>19.55</td>\n",
       "    </tr>\n",
       "    <tr>\n",
       "      <th>84917820</th>\n",
       "      <td>2019-01-01</td>\n",
       "      <td>4.028</td>\n",
       "      <td>2.1545</td>\n",
       "      <td>-122.5131</td>\n",
       "      <td>37.86929</td>\n",
       "      <td>1.546308e+09</td>\n",
       "      <td>54.0</td>\n",
       "      <td>42.98</td>\n",
       "      <td>350.0</td>\n",
       "      <td>21.85</td>\n",
       "    </tr>\n",
       "    <tr>\n",
       "      <th>84917821</th>\n",
       "      <td>2019-01-01</td>\n",
       "      <td>4.028</td>\n",
       "      <td>2.1545</td>\n",
       "      <td>-122.5131</td>\n",
       "      <td>37.86929</td>\n",
       "      <td>1.546311e+09</td>\n",
       "      <td>53.0</td>\n",
       "      <td>40.96</td>\n",
       "      <td>350.0</td>\n",
       "      <td>28.75</td>\n",
       "    </tr>\n",
       "    <tr>\n",
       "      <th>84917822</th>\n",
       "      <td>2019-01-01</td>\n",
       "      <td>4.028</td>\n",
       "      <td>2.1545</td>\n",
       "      <td>-122.5131</td>\n",
       "      <td>37.86929</td>\n",
       "      <td>1.546315e+09</td>\n",
       "      <td>53.0</td>\n",
       "      <td>42.48</td>\n",
       "      <td>360.0</td>\n",
       "      <td>27.60</td>\n",
       "    </tr>\n",
       "    <tr>\n",
       "      <th>84917823</th>\n",
       "      <td>2019-01-01</td>\n",
       "      <td>4.028</td>\n",
       "      <td>2.1545</td>\n",
       "      <td>-122.5131</td>\n",
       "      <td>37.86929</td>\n",
       "      <td>1.546319e+09</td>\n",
       "      <td>52.0</td>\n",
       "      <td>46.25</td>\n",
       "      <td>360.0</td>\n",
       "      <td>21.85</td>\n",
       "    </tr>\n",
       "  </tbody>\n",
       "</table>\n",
       "</div>"
      ],
      "text/plain": [
       "                date  DS_PM_pred  DS_PM_stdd       lon       lat  \\\n",
       "84917819  2019-01-01       4.028      2.1545 -122.5131  37.86929   \n",
       "84917820  2019-01-01       4.028      2.1545 -122.5131  37.86929   \n",
       "84917821  2019-01-01       4.028      2.1545 -122.5131  37.86929   \n",
       "84917822  2019-01-01       4.028      2.1545 -122.5131  37.86929   \n",
       "84917823  2019-01-01       4.028      2.1545 -122.5131  37.86929   \n",
       "\n",
       "                 valid  tmpf   relh   drct   sped  \n",
       "84917819  1.546304e+09  54.0  41.11  350.0  19.55  \n",
       "84917820  1.546308e+09  54.0  42.98  350.0  21.85  \n",
       "84917821  1.546311e+09  53.0  40.96  350.0  28.75  \n",
       "84917822  1.546315e+09  53.0  42.48  360.0  27.60  \n",
       "84917823  1.546319e+09  52.0  46.25  360.0  21.85  "
      ]
     },
     "execution_count": 11,
     "metadata": {},
     "output_type": "execute_result"
    }
   ],
   "source": [
    "df.head()"
   ]
  },
  {
   "cell_type": "markdown",
   "id": "1b708c5f",
   "metadata": {},
   "source": [
    "\"DS_PM_pred\" is our target variable. \"date\" data is captured in \"valid\". \n",
    "\n",
    "I am leaving out 'DS_PM_stdd': Standard error of the estimated PM2.5 concentration because it is not a physical metric, rather highly derivative of \"DS_PM_pred\". Note the $R^2$ would be .9 if 'DS_PM_stdd' were included."
   ]
  },
  {
   "cell_type": "code",
   "execution_count": 12,
   "id": "ce6751e7",
   "metadata": {},
   "outputs": [],
   "source": [
    "#X = df.drop([\"DS_PM_pred\", \"DS_PM_stdd\",'date','lon','lat'],axis=1)\n",
    "X = df.drop([\"DS_PM_pred\",\"DS_PM_stdd\",'date'],axis=1)\n",
    "X = sm.add_constant(X)"
   ]
  },
  {
   "cell_type": "code",
   "execution_count": 13,
   "id": "9f61554a",
   "metadata": {},
   "outputs": [],
   "source": [
    "y = df[[\"DS_PM_pred\"]]"
   ]
  },
  {
   "cell_type": "code",
   "execution_count": 14,
   "id": "dbc47a85",
   "metadata": {},
   "outputs": [],
   "source": [
    "X_train, X_test, y_train, y_test = train_test_split(X, y, test_size = 0.25, random_state = 123)"
   ]
  },
  {
   "cell_type": "code",
   "execution_count": 15,
   "id": "4def50bc",
   "metadata": {
    "scrolled": false
   },
   "outputs": [
    {
     "data": {
      "text/html": [
       "<table class=\"simpletable\">\n",
       "<caption>OLS Regression Results</caption>\n",
       "<tr>\n",
       "  <th>Dep. Variable:</th>       <td>DS_PM_pred</td>    <th>  R-squared:         </th>  <td>   0.070</td>  \n",
       "</tr>\n",
       "<tr>\n",
       "  <th>Model:</th>                   <td>OLS</td>       <th>  Adj. R-squared:    </th>  <td>   0.070</td>  \n",
       "</tr>\n",
       "<tr>\n",
       "  <th>Method:</th>             <td>Least Squares</td>  <th>  F-statistic:       </th>  <td>3.378e+04</td> \n",
       "</tr>\n",
       "<tr>\n",
       "  <th>Date:</th>             <td>Sat, 20 Jan 2024</td> <th>  Prob (F-statistic):</th>   <td>  0.00</td>   \n",
       "</tr>\n",
       "<tr>\n",
       "  <th>Time:</th>                 <td>16:29:55</td>     <th>  Log-Likelihood:    </th> <td>-1.2100e+07</td>\n",
       "</tr>\n",
       "<tr>\n",
       "  <th>No. Observations:</th>      <td>3123792</td>     <th>  AIC:               </th>  <td>2.420e+07</td> \n",
       "</tr>\n",
       "<tr>\n",
       "  <th>Df Residuals:</th>          <td>3123784</td>     <th>  BIC:               </th>  <td>2.420e+07</td> \n",
       "</tr>\n",
       "<tr>\n",
       "  <th>Df Model:</th>              <td>     7</td>      <th>                     </th>      <td> </td>     \n",
       "</tr>\n",
       "<tr>\n",
       "  <th>Covariance Type:</th>      <td>nonrobust</td>    <th>                     </th>      <td> </td>     \n",
       "</tr>\n",
       "</table>\n",
       "<table class=\"simpletable\">\n",
       "<tr>\n",
       "    <td></td>       <th>coef</th>     <th>std err</th>      <th>t</th>      <th>P>|t|</th>  <th>[0.025</th>    <th>0.975]</th>  \n",
       "</tr>\n",
       "<tr>\n",
       "  <th>const</th> <td>  573.1091</td> <td>   21.510</td> <td>   26.643</td> <td> 0.000</td> <td>  530.949</td> <td>  615.269</td>\n",
       "</tr>\n",
       "<tr>\n",
       "  <th>lon</th>   <td>    5.4223</td> <td>    0.191</td> <td>   28.389</td> <td> 0.000</td> <td>    5.048</td> <td>    5.797</td>\n",
       "</tr>\n",
       "<tr>\n",
       "  <th>lat</th>   <td>    5.3397</td> <td>    0.118</td> <td>   45.104</td> <td> 0.000</td> <td>    5.108</td> <td>    5.572</td>\n",
       "</tr>\n",
       "<tr>\n",
       "  <th>valid</th> <td>-5.075e-08</td> <td> 3.67e-10</td> <td> -138.218</td> <td> 0.000</td> <td>-5.15e-08</td> <td>   -5e-08</td>\n",
       "</tr>\n",
       "<tr>\n",
       "  <th>tmpf</th>  <td>   -0.1289</td> <td>    0.001</td> <td> -114.013</td> <td> 0.000</td> <td>   -0.131</td> <td>   -0.127</td>\n",
       "</tr>\n",
       "<tr>\n",
       "  <th>relh</th>  <td>   -0.1510</td> <td>    0.001</td> <td> -280.657</td> <td> 0.000</td> <td>   -0.152</td> <td>   -0.150</td>\n",
       "</tr>\n",
       "<tr>\n",
       "  <th>drct</th>  <td>   -0.0064</td> <td> 7.54e-05</td> <td>  -85.376</td> <td> 0.000</td> <td>   -0.007</td> <td>   -0.006</td>\n",
       "</tr>\n",
       "<tr>\n",
       "  <th>sped</th>  <td>   -0.3013</td> <td>    0.001</td> <td> -251.389</td> <td> 0.000</td> <td>   -0.304</td> <td>   -0.299</td>\n",
       "</tr>\n",
       "</table>\n",
       "<table class=\"simpletable\">\n",
       "<tr>\n",
       "  <th>Omnibus:</th>       <td>4009032.587</td> <th>  Durbin-Watson:     </th>   <td>   1.999</td>   \n",
       "</tr>\n",
       "<tr>\n",
       "  <th>Prob(Omnibus):</th>   <td> 0.000</td>    <th>  Jarque-Bera (JB):  </th> <td>669304852.851</td>\n",
       "</tr>\n",
       "<tr>\n",
       "  <th>Skew:</th>            <td> 7.269</td>    <th>  Prob(JB):          </th>   <td>    0.00</td>   \n",
       "</tr>\n",
       "<tr>\n",
       "  <th>Kurtosis:</th>        <td>73.220</td>    <th>  Cond. No.          </th>   <td>5.05e+12</td>   \n",
       "</tr>\n",
       "</table><br/><br/>Notes:<br/>[1] Standard Errors assume that the covariance matrix of the errors is correctly specified.<br/>[2] The condition number is large, 5.05e+12. This might indicate that there are<br/>strong multicollinearity or other numerical problems."
      ],
      "text/plain": [
       "<class 'statsmodels.iolib.summary.Summary'>\n",
       "\"\"\"\n",
       "                            OLS Regression Results                            \n",
       "==============================================================================\n",
       "Dep. Variable:             DS_PM_pred   R-squared:                       0.070\n",
       "Model:                            OLS   Adj. R-squared:                  0.070\n",
       "Method:                 Least Squares   F-statistic:                 3.378e+04\n",
       "Date:                Sat, 20 Jan 2024   Prob (F-statistic):               0.00\n",
       "Time:                        16:29:55   Log-Likelihood:            -1.2100e+07\n",
       "No. Observations:             3123792   AIC:                         2.420e+07\n",
       "Df Residuals:                 3123784   BIC:                         2.420e+07\n",
       "Df Model:                           7                                         \n",
       "Covariance Type:            nonrobust                                         \n",
       "==============================================================================\n",
       "                 coef    std err          t      P>|t|      [0.025      0.975]\n",
       "------------------------------------------------------------------------------\n",
       "const        573.1091     21.510     26.643      0.000     530.949     615.269\n",
       "lon            5.4223      0.191     28.389      0.000       5.048       5.797\n",
       "lat            5.3397      0.118     45.104      0.000       5.108       5.572\n",
       "valid      -5.075e-08   3.67e-10   -138.218      0.000   -5.15e-08      -5e-08\n",
       "tmpf          -0.1289      0.001   -114.013      0.000      -0.131      -0.127\n",
       "relh          -0.1510      0.001   -280.657      0.000      -0.152      -0.150\n",
       "drct          -0.0064   7.54e-05    -85.376      0.000      -0.007      -0.006\n",
       "sped          -0.3013      0.001   -251.389      0.000      -0.304      -0.299\n",
       "==============================================================================\n",
       "Omnibus:                  4009032.587   Durbin-Watson:                   1.999\n",
       "Prob(Omnibus):                  0.000   Jarque-Bera (JB):        669304852.851\n",
       "Skew:                           7.269   Prob(JB):                         0.00\n",
       "Kurtosis:                      73.220   Cond. No.                     5.05e+12\n",
       "==============================================================================\n",
       "\n",
       "Notes:\n",
       "[1] Standard Errors assume that the covariance matrix of the errors is correctly specified.\n",
       "[2] The condition number is large, 5.05e+12. This might indicate that there are\n",
       "strong multicollinearity or other numerical problems.\n",
       "\"\"\""
      ]
     },
     "execution_count": 15,
     "metadata": {},
     "output_type": "execute_result"
    }
   ],
   "source": [
    "model = sm.OLS(y_train.astype(float), X_train.astype(float))\n",
    "results = model.fit()\n",
    "results.summary()"
   ]
  },
  {
   "cell_type": "markdown",
   "id": "4c73dc40",
   "metadata": {},
   "source": [
    "Given the $R^2$ value is so small, perhaps a linear regression is not the way to go. A neural net with some short term memory for previous days should be factored into the PM2.5 reading, more so than the weather factors of the current day/reading."
   ]
  },
  {
   "cell_type": "markdown",
   "id": "8dbead85",
   "metadata": {},
   "source": [
    "As a silly excercise: a graph of the predicted vs actual data in the linear regression, with red being a perfect match."
   ]
  },
  {
   "cell_type": "code",
   "execution_count": 16,
   "id": "c6ab0bd4",
   "metadata": {},
   "outputs": [
    {
     "data": {
      "text/plain": [
       "0.07037522738133006"
      ]
     },
     "execution_count": 16,
     "metadata": {},
     "output_type": "execute_result"
    }
   ],
   "source": [
    "rModel = linear_model.LinearRegression()\n",
    "rModel.fit(X_train, y_train)\n",
    "rModel.score(X_train, y_train)"
   ]
  },
  {
   "cell_type": "code",
   "execution_count": 17,
   "id": "4d0f6a92",
   "metadata": {},
   "outputs": [
    {
     "data": {
      "image/png": "[encoded data removed]",
      "text/plain": [
       "<Figure size 640x480 with 1 Axes>"
      ]
     },
     "metadata": {},
     "output_type": "display_data"
    }
   ],
   "source": [
    "y_pred = rModel.predict(X_test)\n",
    "plt.scatter(y_test,y_pred,alpha=.01)\n",
    "plt.plot([x for x in range(0,20)],[x for x in range(0,20)], color='red')\n",
    "ax = plt.gca()\n",
    "ax.set_aspect('equal', adjustable='box')\n",
    "plt.show()"
   ]
  },
  {
   "cell_type": "markdown",
   "id": "28c07e89",
   "metadata": {},
   "source": [
    "The graph shows that a fitting to a line is not an accurate model."
   ]
  },
  {
   "cell_type": "markdown",
   "id": "908d429b",
   "metadata": {},
   "source": [
    "For a future model involving machine learning, I plan on spliting the timestamp of 'valid' into its constitutes (or scaling the feature). I will also think about assigning unique categories to each unique location (~221 locations)."
   ]
  },
  {
   "cell_type": "code",
   "execution_count": 19,
   "id": "ae3abcf0",
   "metadata": {},
   "outputs": [],
   "source": [
    "from sklearn.preprocessing import StandardScaler"
   ]
  },
  {
   "cell_type": "code",
   "execution_count": 20,
   "id": "6b2005f7",
   "metadata": {},
   "outputs": [],
   "source": [
    "scaler = StandardScaler()\n",
    "X_train_sc = scaler.fit_transform(X_train)\n",
    "X_test_sc = scaler.fit_transform(X_test)"
   ]
  },
  {
   "cell_type": "code",
   "execution_count": 21,
   "id": "9aa175e7",
   "metadata": {},
   "outputs": [
    {
     "data": {
      "text/plain": [
       "0.07037522738133029"
      ]
     },
     "execution_count": 21,
     "metadata": {},
     "output_type": "execute_result"
    }
   ],
   "source": [
    "rModel.fit(X_train_sc, y_train)\n",
    "rModel.score(X_train_sc, y_train)"
   ]
  },
  {
   "cell_type": "markdown",
   "id": "068ff14d",
   "metadata": {},
   "source": [
    "Scaling doesn't seem to affect the R^2 score."
   ]
  }
 ],
 "metadata": {
  "kernelspec": {
   "display_name": "Python 3 (ipykernel)",
   "language": "python",
   "name": "python3"
  },
  "language_info": {
   "codemirror_mode": {
    "name": "ipython",
    "version": 3
   },
   "file_extension": ".py",
   "mimetype": "text/x-python",
   "name": "python",
   "nbconvert_exporter": "python",
   "pygments_lexer": "ipython3",
   "version": "3.9.13"
  }
 },
 "nbformat": 4,
 "nbformat_minor": 5
}
