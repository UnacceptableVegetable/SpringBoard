{
 "cells": [
  {
   "cell_type": "code",
   "execution_count": 1,
   "id": "68c4c5b4",
   "metadata": {},
   "outputs": [],
   "source": [
    "import sqlite3\n",
    "import pandas as pd"
   ]
  },
  {
   "cell_type": "code",
   "execution_count": 2,
   "id": "b7d01513",
   "metadata": {},
   "outputs": [],
   "source": [
    "conn=sqlite3.connect('sqlite_db_pythonsqlite.db')"
   ]
  },
  {
   "cell_type": "code",
   "execution_count": 3,
   "id": "6c11a1ba",
   "metadata": {},
   "outputs": [],
   "source": [
    "cur = conn.cursor()"
   ]
  },
  {
   "cell_type": "markdown",
   "id": "5af1adbd",
   "metadata": {},
   "source": [
    "Q10: Produce a list of facilities with a total revenue less than 1000.\n",
    "The output of facility name and total revenue, sorted by revenue. Remember\n",
    "that there's a different cost for guests and members!"
   ]
  },
  {
   "cell_type": "code",
   "execution_count": 4,
   "id": "7de21805",
   "metadata": {},
   "outputs": [],
   "source": [
    "query10 = \"\"\"\n",
    "SELECT name, \n",
    "SUM(CASE WHEN Bookings.memid = 0 THEN guestcost ELSE membercost END) - monthlymaintenance AS revenue\n",
    "FROM ((Bookings\n",
    "INNER JOIN Facilities ON Bookings.facid = Facilities.facid)\n",
    "INNER JOIN Members ON Bookings.memid = Members.memid)\n",
    "GROUP BY name\n",
    "HAVING revenue < 1000\n",
    "\"\"\""
   ]
  },
  {
   "cell_type": "code",
   "execution_count": 5,
   "id": "cd4ef4de",
   "metadata": {},
   "outputs": [
    {
     "name": "stdout",
     "output_type": "stream",
     "text": [
      "('Badminton Court', 554.5)\n",
      "('Pool Table', 250)\n",
      "('Snooker Table', 100)\n",
      "('Table Tennis', 80)\n"
     ]
    }
   ],
   "source": [
    "cur.execute(query10)\n",
    "rows = cur.fetchall()\n",
    "for i in rows: print(i)"
   ]
  },
  {
   "cell_type": "markdown",
   "id": "ebcf2e39",
   "metadata": {},
   "source": [
    "Q11: Produce a report of members and who recommended them in alphabetic surname,firstname order"
   ]
  },
  {
   "cell_type": "code",
   "execution_count": 11,
   "id": "98775061",
   "metadata": {},
   "outputs": [],
   "source": [
    "query11 = \"\"\"\n",
    "SELECT m1.surname ||\", \"|| m1.firstname AS member,  \n",
    "(CASE WHEN m2.surname = \"GUEST\" THEN NULL ELSE m2.surname END) AS recsur, \n",
    "(CASE WHEN m2.firstname = \"GUEST\" THEN NULL ELSE m2.firstname END) AS recfirst\n",
    "FROM Members AS m1\n",
    "LEFT JOIN Members AS m2 ON m1.recommendedby = m2.memid\n",
    "ORDER BY recsur,recfirst\n",
    "\"\"\""
   ]
  },
  {
   "cell_type": "code",
   "execution_count": 12,
   "id": "ad44f505",
   "metadata": {},
   "outputs": [
    {
     "name": "stdout",
     "output_type": "stream",
     "text": [
      "('GUEST, GUEST', None, None)\n",
      "('Smith, Darren', None, None)\n",
      "('Smith, Tracy', None, None)\n",
      "('Rownam, Tim', None, None)\n",
      "('Tracy, Burton', None, None)\n",
      "('Farrell, Jemima', None, None)\n",
      "('Farrell, David', None, None)\n",
      "('Tupperware, Hyacinth', None, None)\n",
      "('Smith, Darren', None, None)\n",
      "('Sarwin, Ramnaresh', 'Bader', 'Florence')\n",
      "('Coplin, Joan', 'Baker', 'Timothy')\n",
      "('Genting, Matthew', 'Butters', 'Gerald')\n",
      "('Baker, Timothy', 'Farrell', 'Jemima')\n",
      "('Pinker, David', 'Farrell', 'Jemima')\n",
      "('Rumney, Henrietta', 'Genting', 'Matthew')\n",
      "('Jones, Douglas', 'Jones', 'David')\n",
      "('Dare, Nancy', 'Joplette', 'Janice')\n",
      "('Jones, David', 'Joplette', 'Janice')\n",
      "('Hunt, John', 'Purview', 'Millicent')\n",
      "('Boothe, Tim', 'Rownam', 'Tim')\n",
      "('Joplette, Janice', 'Smith', 'Darren')\n",
      "('Butters, Gerald', 'Smith', 'Darren')\n",
      "('Owen, Charles', 'Smith', 'Darren')\n",
      "('Smith, Jack', 'Smith', 'Darren')\n",
      "('Mackenzie, Anna', 'Smith', 'Darren')\n",
      "('Worthington-Smyth, Henry', 'Smith', 'Tracy')\n",
      "('Purview, Millicent', 'Smith', 'Tracy')\n",
      "('Crumpet, Erica', 'Smith', 'Tracy')\n",
      "('Baker, Anne', 'Stibbons', 'Ponder')\n",
      "('Bader, Florence', 'Stibbons', 'Ponder')\n",
      "('Stibbons, Ponder', 'Tracy', 'Burton')\n"
     ]
    }
   ],
   "source": [
    "cur.execute(query11)\n",
    "rows = cur.fetchall()\n",
    "for i in rows: print(i)"
   ]
  },
  {
   "cell_type": "markdown",
   "id": "5cf2752b",
   "metadata": {},
   "source": [
    "Q12: Find the facilities with their usage by member, but not guests"
   ]
  },
  {
   "cell_type": "code",
   "execution_count": null,
   "id": "3df81ae7",
   "metadata": {},
   "outputs": [],
   "source": [
    "query12 = \"\"\"\n",
    "SELECT bookid, name, surname, firstname\n",
    "FROM Bookings\n",
    "INNER JOIN Facilities on Bookings.facid = Facilities.facid\n",
    "INNER JOIN Members ON Bookings.memid = Members.memid\n",
    "WHERE Members.memid != 0\n",
    "\"\"\""
   ]
  },
  {
   "cell_type": "markdown",
   "id": "36a027ee",
   "metadata": {},
   "source": [
    "Q13: Find the facilities usage by month, but not guests"
   ]
  },
  {
   "cell_type": "code",
   "execution_count": null,
   "id": "95a11e63",
   "metadata": {},
   "outputs": [],
   "source": [
    "query12 = \"\"\"\n",
    "SELECT EXTRACT(MONTH FROM starttime) as month, bookid, name, surname, firstname\n",
    "FROM Bookings\n",
    "INNER JOIN Facilities on Bookings.facid = Facilities.facid\n",
    "INNER JOIN Members ON Bookings.memid = Members.memid\n",
    "WHERE Members.memid != 0\n",
    "GROUP BY month, name, bookid\n",
    "\"\"\""
   ]
  },
  {
   "cell_type": "code",
   "execution_count": 92,
   "id": "8932011d",
   "metadata": {},
   "outputs": [],
   "source": [
    "conn.close()"
   ]
  },
  {
   "cell_type": "code",
   "execution_count": null,
   "id": "23cf5a5d",
   "metadata": {},
   "outputs": [],
   "source": []
  }
 ],
 "metadata": {
  "kernelspec": {
   "display_name": "Python 3 (ipykernel)",
   "language": "python",
   "name": "python3"
  },
  "language_info": {
   "codemirror_mode": {
    "name": "ipython",
    "version": 3
   },
   "file_extension": ".py",
   "mimetype": "text/x-python",
   "name": "python",
   "nbconvert_exporter": "python",
   "pygments_lexer": "ipython3",
   "version": "3.9.13"
  }
 },
 "nbformat": 4,
 "nbformat_minor": 5
}
